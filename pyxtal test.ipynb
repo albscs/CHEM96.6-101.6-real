{
 "cells": [
  {
   "cell_type": "code",
   "execution_count": 1,
   "id": "c70a5cdc",
   "metadata": {},
   "outputs": [
    {
     "name": "stderr",
     "output_type": "stream",
     "text": [
      "/opt/anaconda3/envs/pyxtal2/lib/python3.9/site-packages/pymatgen/core/__init__.py:49: UserWarning: Error loading .pmgrc.yaml: [Errno 2] No such file or directory: '/Users/albertchen/.pmgrc.yaml'. You may need to reconfigure your yaml file.\n",
      "  warnings.warn(f\"Error loading .pmgrc.yaml: {ex}. You may need to reconfigure your yaml file.\")\n"
     ]
    }
   ],
   "source": [
    "from pyxtal import pyxtal\n",
    "my_crystal = pyxtal()\n",
    "my_crystal.from_random(3, 225, ['C'], [12])"
   ]
  },
  {
   "cell_type": "code",
   "execution_count": 2,
   "id": "3d5147c0",
   "metadata": {},
   "outputs": [
    {
     "data": {
      "text/plain": [
       "True"
      ]
     },
     "execution_count": 2,
     "metadata": {},
     "output_type": "execute_result"
    }
   ],
   "source": [
    "my_crystal.valid"
   ]
  },
  {
   "cell_type": "code",
   "execution_count": 3,
   "id": "2625c7c2",
   "metadata": {},
   "outputs": [],
   "source": [
    "from pyxtal.molecule import pyxtal_molecule"
   ]
  },
  {
   "cell_type": "code",
   "execution_count": 4,
   "id": "66c449f9",
   "metadata": {},
   "outputs": [],
   "source": [
    "mol = pyxtal_molecule('H2O')"
   ]
  },
  {
   "cell_type": "code",
   "execution_count": 5,
   "id": "2c96e185",
   "metadata": {},
   "outputs": [
    {
     "data": {
      "text/plain": [
       "<pyxtal.molecule.pyxtal_molecule at 0x7fb5f5832430>"
      ]
     },
     "execution_count": 5,
     "metadata": {},
     "output_type": "execute_result"
    }
   ],
   "source": [
    "mol"
   ]
  },
  {
   "cell_type": "code",
   "execution_count": 16,
   "id": "7e62ed20",
   "metadata": {},
   "outputs": [
    {
     "name": "stdout",
     "output_type": "stream",
     "text": [
      "-- Pointgroup --# 7 (C2v)--\n",
      "4d\tsite symm: 1\n",
      "2c\tsite symm: m . .\n",
      "2b\tsite symm: m . .\n",
      "1a\tsite symm: mm2 . .\n"
     ]
    }
   ],
   "source": [
    "from pymatgen.core import Molecule\n",
    "\n",
    "xyz=\"\"\"3\n",
    "Water molecule\n",
    "O          0.00000        0.00000        0.11779\n",
    "H          0.00000        0.75545       -0.47116\n",
    "H          0.00000       -0.75545       -0.47116\n",
    "\"\"\"\n",
    "\n",
    "m = Molecule.from_str(xyz, fmt='xyz')\n",
    "mol = pyxtal_molecule(m)\n",
    "print(mol.pg)"
   ]
  },
  {
   "cell_type": "code",
   "execution_count": 8,
   "id": "b8f17393",
   "metadata": {},
   "outputs": [
    {
     "name": "stdout",
     "output_type": "stream",
     "text": [
      "-- Pointgroup --# 7 (C2v)--\n",
      "4d\tsite symm: 1\n",
      "2c\tsite symm: m . .\n",
      "2b\tsite symm: m . .\n",
      "1a\tsite symm: mm2 . .\n"
     ]
    }
   ],
   "source": [
    "mol = pyxtal_molecule('H2O')\n",
    "print(mol.pg)"
   ]
  },
  {
   "cell_type": "code",
   "execution_count": 9,
   "id": "48595c8d",
   "metadata": {},
   "outputs": [
    {
     "name": "stdout",
     "output_type": "stream",
     "text": [
      "\n",
      "------Crystal from random------\n",
      "Dimension: 3\n",
      "Composition: [H2O]4\n",
      "Group: P21/c (14)\n",
      "  9.4345,   4.7248,   4.6180,  90.0000, 104.0003,  90.0000, monoclinic\n",
      "Wyckoff sites:\n",
      "\tH2O1         @ [ 0.9970  0.6375  0.8300]  WP [4e] Site [1] Euler [ -45.9  -63.8   64.3]\n"
     ]
    }
   ],
   "source": [
    "from pyxtal import pyxtal\n",
    "c1 = pyxtal(molecular=True)\n",
    "c1.from_random(3, 14, [mol], [4])\n",
    "print(c1)"
   ]
  },
  {
   "cell_type": "code",
   "execution_count": 11,
   "id": "e93b9314",
   "metadata": {},
   "outputs": [
    {
     "data": {
      "text/plain": [
       "-- Spacegroup --# 45 (Iba2)--\n",
       "8c\tsite symm: 1\n",
       "4b\tsite symm: ..2\n",
       "4a\tsite symm: ..2"
      ]
     },
     "execution_count": 11,
     "metadata": {},
     "output_type": "execute_result"
    }
   ],
   "source": [
    "from pyxtal.symmetry import Group\n",
    "g = Group(45)\n",
    "g"
   ]
  },
  {
   "cell_type": "code",
   "execution_count": 12,
   "id": "0f18513c",
   "metadata": {},
   "outputs": [
    {
     "data": {
      "text/plain": [
       "False"
      ]
     },
     "execution_count": 12,
     "metadata": {},
     "output_type": "execute_result"
    }
   ],
   "source": [
    "g.chiral"
   ]
  },
  {
   "cell_type": "code",
   "execution_count": 13,
   "id": "d0f52aac",
   "metadata": {},
   "outputs": [
    {
     "data": {
      "text/plain": [
       "False"
      ]
     },
     "execution_count": 13,
     "metadata": {},
     "output_type": "execute_result"
    }
   ],
   "source": [
    "g.inversion"
   ]
  },
  {
   "cell_type": "code",
   "execution_count": 14,
   "id": "b9050b06",
   "metadata": {},
   "outputs": [
    {
     "data": {
      "text/plain": [
       "True"
      ]
     },
     "execution_count": 14,
     "metadata": {},
     "output_type": "execute_result"
    }
   ],
   "source": [
    "g.polar"
   ]
  },
  {
   "cell_type": "code",
   "execution_count": 18,
   "id": "6d97ddba",
   "metadata": {},
   "outputs": [
    {
     "data": {
      "text/plain": [
       "-- Layergroup --# 5 (p11a)--\n",
       "2a\tsite symm: 1"
      ]
     },
     "execution_count": 18,
     "metadata": {},
     "output_type": "execute_result"
    }
   ],
   "source": [
    "Group(5, dim=2)"
   ]
  },
  {
   "cell_type": "code",
   "execution_count": 19,
   "id": "2d08bd78",
   "metadata": {},
   "outputs": [
    {
     "data": {
      "text/plain": [
       "-- Rodgroup --# 5 (pc11)--\n",
       "2a\tsite symm: 1"
      ]
     },
     "execution_count": 19,
     "metadata": {},
     "output_type": "execute_result"
    }
   ],
   "source": [
    "Group(5, dim=1)"
   ]
  },
  {
   "cell_type": "code",
   "execution_count": 20,
   "id": "b46bbc49",
   "metadata": {},
   "outputs": [
    {
     "data": {
      "text/plain": [
       "-- Pointgroup --# 5 (C2h)--\n",
       "4c\tsite symm: 1\n",
       "2b\tsite symm: m . .\n",
       "2a\tsite symm: 2 . .\n",
       "1o\tsite symm: 2/m . ."
      ]
     },
     "execution_count": 20,
     "metadata": {},
     "output_type": "execute_result"
    }
   ],
   "source": [
    "Group(5, dim=0)"
   ]
  },
  {
   "cell_type": "code",
   "execution_count": 21,
   "id": "6773e396",
   "metadata": {},
   "outputs": [
    {
     "data": {
      "text/plain": [
       "Wyckoff position 8c in space group 45 with site symmetry 1\n",
       "x, y, z\n",
       "-x, -y, z\n",
       "x+1/2, -y+1/2, z\n",
       "-x+1/2, y+1/2, z\n",
       "x+1/2, y+1/2, z+1/2\n",
       "-x+1/2, -y+1/2, z+1/2\n",
       "x+1, -y+1, z+1/2\n",
       "-x+1, y+1, z+1/2"
      ]
     },
     "execution_count": 21,
     "metadata": {},
     "output_type": "execute_result"
    }
   ],
   "source": [
    "g[0]"
   ]
  },
  {
   "cell_type": "code",
   "execution_count": 22,
   "id": "eba23527",
   "metadata": {},
   "outputs": [
    {
     "data": {
      "text/plain": [
       "Wyckoff position 4b in space group 45 with site symmetry ..2\n",
       "0, 1/2, z\n",
       "1/2, 0, z\n",
       "1/2, 1, z+1/2\n",
       "1, 1/2, z+1/2"
      ]
     },
     "execution_count": 22,
     "metadata": {},
     "output_type": "execute_result"
    }
   ],
   "source": [
    "g['b']"
   ]
  },
  {
   "cell_type": "code",
   "execution_count": 23,
   "id": "28445c67",
   "metadata": {},
   "outputs": [
    {
     "name": "stdout",
     "output_type": "stream",
     "text": [
      "Wyckoff position 4e in space group 14 with site symmetry 1\n",
      "Wyckoff position 8b in space group 36 with site symmetry 1\n",
      "Wyckoff position 4a in space group 36 with site symmetry m..\n",
      "Wyckoff position 16h in space group 63 with site symmetry 1\n",
      "Wyckoff position 8g in space group 63 with site symmetry ..m\n",
      "Wyckoff position 8f in space group 63 with site symmetry m..\n",
      "Wyckoff position 8e in space group 63 with site symmetry 2..\n",
      "Wyckoff position 4c in space group 63 with site symmetry m2m\n"
     ]
    }
   ],
   "source": [
    "from pyxtal.symmetry import Group\n",
    "from pyxtal.molecule import pyxtal_molecule\n",
    "\n",
    "mol = pyxtal_molecule('H2O')\n",
    "sgs = [14, 36, 63]\n",
    "\n",
    "for sg in sgs:\n",
    "    spg = Group(sg)\n",
    "    for wp in spg.Wyckoff_positions:\n",
    "        if len(mol.get_orientations_in_wp(wp)) > 0:\n",
    "            print(wp.__str__(True))"
   ]
  },
  {
   "cell_type": "code",
   "execution_count": null,
   "id": "9f8b18e4",
   "metadata": {},
   "outputs": [],
   "source": []
  }
 ],
 "metadata": {
  "kernelspec": {
   "display_name": "Python 3 (ipykernel)",
   "language": "python",
   "name": "python3"
  },
  "language_info": {
   "codemirror_mode": {
    "name": "ipython",
    "version": 3
   },
   "file_extension": ".py",
   "mimetype": "text/x-python",
   "name": "python",
   "nbconvert_exporter": "python",
   "pygments_lexer": "ipython3",
   "version": "3.9.7"
  }
 },
 "nbformat": 4,
 "nbformat_minor": 5
}
