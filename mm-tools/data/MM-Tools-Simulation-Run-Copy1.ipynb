{
 "cells": [
  {
   "cell_type": "markdown",
   "metadata": {},
   "source": [
    "I also included the examples they did for the ethane; my work on the problems they did is further down and interspersed within their demonstrations."
   ]
  },
  {
   "cell_type": "code",
   "execution_count": 2,
   "metadata": {},
   "outputs": [],
   "source": [
    "from simtk.openmm import app\n",
    "import simtk.openmm as mm\n",
    "from simtk import unit\n",
    "import mdtraj as md"
   ]
  },
  {
   "cell_type": "code",
   "execution_count": 8,
   "metadata": {},
   "outputs": [],
   "source": [
    "pdb = app.PDBFile('ethane.pdb')\n",
    "forcefield = app.ForceField('ethane.gaff2.xml')"
   ]
  },
  {
   "cell_type": "code",
   "execution_count": 9,
   "metadata": {},
   "outputs": [],
   "source": [
    "system = forcefield.createSystem(pdb.topology, nonbondedMethod=app.NoCutoff, constraints=app.HBonds)"
   ]
  },
  {
   "cell_type": "code",
   "execution_count": 10,
   "metadata": {},
   "outputs": [],
   "source": [
    "integrator = mm.LangevinIntegrator(298.15*unit.kelvin, 5.0/unit.picoseconds, 2.0*unit.femtoseconds)\n",
    "integrator.setConstraintTolerance(1e-5)"
   ]
  },
  {
   "cell_type": "code",
   "execution_count": 11,
   "metadata": {},
   "outputs": [],
   "source": [
    "platform = mm.Platform.getPlatformByName('Reference')\n",
    "simulation = app.Simulation(pdb.topology, system, integrator, platform)\n",
    "simulation.context.setPositions(pdb.positions)"
   ]
  },
  {
   "cell_type": "code",
   "execution_count": 12,
   "metadata": {},
   "outputs": [
    {
     "name": "stdout",
     "output_type": "stream",
     "text": [
      "Minimizing...\n",
      "Potential energy before minimization is 4.467818224810637 kJ/mol\n",
      "Potential energy after minimization is 4.38996767892269 kJ/mol\n"
     ]
    }
   ],
   "source": [
    "print('Minimizing...')\n",
    "\n",
    "st = simulation.context.getState(getPositions=True,getEnergy=True)\n",
    "print(F\"Potential energy before minimization is {st.getPotentialEnergy()}\")\n",
    "\n",
    "simulation.minimizeEnergy(maxIterations=100)\n",
    "\n",
    "st = simulation.context.getState(getPositions=True,getEnergy=True)\n",
    "print(F\"Potential energy after minimization is {st.getPotentialEnergy()}\")"
   ]
  },
  {
   "cell_type": "code",
   "execution_count": 13,
   "metadata": {},
   "outputs": [
    {
     "name": "stdout",
     "output_type": "stream",
     "text": [
      "Equilibrating...\n",
      "#\"Step\",\"Potential Energy (kJ/mole)\",\"Temperature (K)\"\n",
      "100,20.996158902065172,215.75454430663342\n",
      "200,14.95037030838941,161.4523084455269\n",
      "300,15.877800735667154,187.95318391942243\n",
      "400,18.530906551570087,322.32955434903687\n",
      "500,13.506618570049294,287.5134219216384\n",
      "600,23.89899550600591,502.6586553058878\n",
      "700,11.798407613577481,243.60697958489766\n",
      "800,18.793125480901825,277.66701280760236\n",
      "900,14.073777218964302,303.69983497769783\n",
      "1000,24.149453086569537,261.42258429219095\n",
      "1100,16.52008975245457,393.3488052041034\n",
      "1200,22.817911055064805,206.80458529112883\n",
      "1300,17.855782678030778,314.7067159738747\n",
      "1400,18.16105412633824,529.1741832763523\n",
      "1500,13.556943397393237,151.37370125512396\n",
      "1600,21.800269857873108,440.75207065620907\n",
      "1700,15.33493845349922,460.90411945561647\n",
      "1800,16.781354751501727,388.2834674792999\n",
      "1900,24.575618376302533,402.46127504470695\n",
      "2000,28.521719149079196,304.34847852954266\n",
      "2100,25.266782613999137,467.01434538153933\n",
      "2200,22.756200105568844,280.61926412024616\n",
      "2300,19.414703448715287,254.05554608836056\n",
      "2400,13.225395792047555,612.3652999328526\n",
      "2500,16.497851382925745,214.13678320357806\n"
     ]
    }
   ],
   "source": [
    "from sys import stdout\n",
    "\n",
    "print('Equilibrating...')\n",
    "\n",
    "simulation.reporters.append(app.StateDataReporter(stdout, 100, step=True, \n",
    "    potentialEnergy=True, temperature=True, separator=','))\n",
    "simulation.context.setVelocitiesToTemperature(150.0*unit.kelvin)\n",
    "simulation.step(2500)"
   ]
  },
  {
   "cell_type": "code",
   "execution_count": 14,
   "metadata": {},
   "outputs": [
    {
     "name": "stdout",
     "output_type": "stream",
     "text": [
      "Running Production...\n",
      "#\"Step\",\"Time (ps)\",\"Potential Energy (kJ/mole)\",\"Temperature (K)\",\"Speed (ns/day)\"\n",
      "250000,500.0000000016593,15.705684402130771,322.59255936374103,0\n",
      "500000,999.9999999901769,14.255835473100351,188.3267053930908,1.82e+04\n",
      "750000,1499.9999999783536,15.264551722002,270.7830772656255,1.53e+04\n",
      "1000000,1999.9999999665301,22.397390962331404,429.9713221170797,1.44e+04\n",
      "1250000,2499.9999999547067,21.972469858430408,194.792894611874,1.39e+04\n",
      "1500000,2999.9999999428833,28.50487631032455,397.31829410917953,1.36e+04\n",
      "1750000,3499.99999993106,14.613177383981386,255.8403021682671,1.39e+04\n",
      "2000000,3999.9999999192364,30.313251366888295,155.04980458699993,1.38e+04\n",
      "2250000,4499.9999999992715,25.189981458516968,126.97925213605727,1.39e+04\n",
      "2500000,5000.000000101135,22.994352947683105,374.9726474198469,1.38e+04\n",
      "2750000,5500.000000202998,18.512320903936295,367.152883535531,1.36e+04\n",
      "3000000,6000.000000304862,34.36738340192347,515.975190492492,1.38e+04\n",
      "3250000,6500.000000406725,33.09369442992164,532.6557725645279,1.38e+04\n",
      "3500000,7000.0000005085885,20.324384913763385,462.92068932369637,1.37e+04\n",
      "3750000,7500.000000610452,19.944576515518897,350.71811306537177,1.37e+04\n",
      "4000000,8000.000000712315,24.741308397149957,235.27270595734836,1.37e+04\n",
      "4250000,8500.000000814178,17.26751970118307,219.4441400371294,1.38e+04\n",
      "4500000,9000.000000916041,22.98805675622179,184.27060185018277,1.39e+04\n",
      "4750000,9500.000001017905,18.330073416337676,179.23372962631112,1.39e+04\n",
      "5000000,10000.000001119768,26.89725808035083,154.01238628315366,1.39e+04\n",
      "5250000,10500.000001221631,16.64949759904561,224.4863291916265,1.38e+04\n",
      "5500000,11000.000001323495,9.041245898913026,583.4528604388476,1.38e+04\n",
      "5750000,11500.000001425358,21.829124735481894,235.16066726400334,1.39e+04\n",
      "6000000,12000.000001527222,17.49753685751179,273.37656782064084,1.39e+04\n",
      "6250000,12500.000001629085,27.795796050267565,317.03576155241205,1.39e+04\n",
      "6500000,13000.000001730948,18.33422859648302,172.3172013748647,1.39e+04\n",
      "6750000,13500.000001832812,21.936440014153295,195.8111627757863,1.39e+04\n",
      "7000000,14000.000001934675,21.07188580017806,337.7452435168486,1.4e+04\n",
      "7250000,14500.000002036539,20.027367460872775,257.92118784042395,1.39e+04\n",
      "7500000,15000.000002138402,19.00726808017192,185.38036133360268,1.39e+04\n",
      "7750000,15500.000002240266,19.821251243027717,261.38695277871284,1.39e+04\n",
      "8000000,16000.000002342129,20.461717072184534,323.327131576198,1.39e+04\n",
      "8250000,16500.00000244399,20.264650891536153,269.5407458205359,1.4e+04\n",
      "8500000,17000.000002545854,14.297647180841459,293.03195149434293,1.39e+04\n",
      "8750000,17500.000002647717,18.55629698540296,400.54423338379036,1.39e+04\n",
      "9000000,18000.00000274958,21.44713196375568,360.3565773561206,1.39e+04\n",
      "9250000,18500.000002851444,21.401200270511808,268.4420417146004,1.39e+04\n",
      "9500000,19000.000002953308,15.950566171191493,304.9515222799127,1.4e+04\n",
      "9750000,19500.00000305517,23.29350641378332,544.1698802243753,1.4e+04\n",
      "10000000,20000.000003157034,21.80335881238623,439.1257638031284,1.39e+04\n",
      "Done!\n",
      "Time required for simulation: 123.90757369995117 seconds\n"
     ]
    }
   ],
   "source": [
    "import time as time\n",
    "\n",
    "print('Running Production...')\n",
    "\n",
    "# Begin timer\n",
    "tinit=time.time()\n",
    "\n",
    "# Clear simulation reporters\n",
    "simulation.reporters.clear()\n",
    "\n",
    "# Reinitialize simulation reporters. We do this because we want different information printed from the production run than the equilibration run.\n",
    "# output basic simulation information below every 250000 steps - (which is equal to 2 fs(250,000) = 500,000 fs = 500 ps)\n",
    "simulation.reporters.append(app.StateDataReporter(stdout, 250000, \n",
    "    step=True, time=True, potentialEnergy=True, temperature=True, \n",
    "    speed=True, separator=','))\n",
    "\n",
    "# write out a trajectory (i.e., coordinates vs. time) to a DCD\n",
    "# file every 100 steps - 0.2 ps\n",
    "simulation.reporters.append(app.DCDReporter('ethane_sim.dcd', 100))\n",
    "\n",
    "# run the simulation for 1.0x10^7 steps - 20 ns\n",
    "simulation.step(10000000)\n",
    "\n",
    "# End timer\n",
    "tfinal=time.time()\n",
    "print('Done!')\n",
    "print('Time required for simulation:', tfinal-tinit, 'seconds')"
   ]
  },
  {
   "cell_type": "code",
   "execution_count": 16,
   "metadata": {},
   "outputs": [],
   "source": [
    "pdb = app.PDBFile('butane.pdb')\n",
    "forcefield = app.ForceField('butane.gaff2.xml')"
   ]
  },
  {
   "cell_type": "code",
   "execution_count": 17,
   "metadata": {},
   "outputs": [],
   "source": [
    "system = forcefield.createSystem(pdb.topology, nonbondedMethod=app.NoCutoff, constraints=app.HBonds)"
   ]
  },
  {
   "cell_type": "code",
   "execution_count": 18,
   "metadata": {},
   "outputs": [],
   "source": [
    "integrator = mm.LangevinIntegrator(298.15*unit.kelvin, 5.0/unit.picoseconds, 2.0*unit.femtoseconds)\n",
    "integrator.setConstraintTolerance(1e-5)"
   ]
  },
  {
   "cell_type": "code",
   "execution_count": 19,
   "metadata": {},
   "outputs": [],
   "source": [
    "platform = mm.Platform.getPlatformByName('Reference')\n",
    "simulation = app.Simulation(pdb.topology, system, integrator, platform)\n",
    "simulation.context.setPositions(pdb.positions)"
   ]
  },
  {
   "cell_type": "code",
   "execution_count": 20,
   "metadata": {},
   "outputs": [
    {
     "name": "stdout",
     "output_type": "stream",
     "text": [
      "Minimizing...\n",
      "Potential energy before minimization is 5.796706828459597 kJ/mol\n",
      "Potential energy after minimization is 5.298273937266501 kJ/mol\n"
     ]
    }
   ],
   "source": [
    "print('Minimizing...')\n",
    "\n",
    "st = simulation.context.getState(getPositions=True,getEnergy=True)\n",
    "print(F\"Potential energy before minimization is {st.getPotentialEnergy()}\")\n",
    "\n",
    "simulation.minimizeEnergy(maxIterations=100)\n",
    "\n",
    "st = simulation.context.getState(getPositions=True,getEnergy=True)\n",
    "print(F\"Potential energy after minimization is {st.getPotentialEnergy()}\")"
   ]
  },
  {
   "cell_type": "code",
   "execution_count": 21,
   "metadata": {},
   "outputs": [
    {
     "name": "stdout",
     "output_type": "stream",
     "text": [
      "Equilibrating...\n",
      "#\"Step\",\"Potential Energy (kJ/mole)\",\"Temperature (K)\"\n",
      "250,54.397208766048735,237.58858837075553\n",
      "500,33.4017271077675,354.64466626315715\n",
      "750,35.392403537695316,598.5389519253213\n",
      "1000,45.381544432540856,384.62079350736946\n",
      "1250,56.53039441215425,495.72763718767203\n",
      "1500,40.22523176941356,368.1152914525541\n",
      "1750,39.87960731905436,180.88556540152234\n",
      "2000,34.878926663121206,292.92340538487133\n",
      "2250,40.29271146444542,260.95681517250335\n",
      "2500,33.40472748642584,360.68578050323254\n",
      "2750,40.04945679059906,256.3929793208351\n",
      "3000,39.38610149033979,251.63733258417952\n",
      "3250,53.67783725894857,320.63773000705334\n",
      "3500,45.60602104700727,342.08244876498026\n",
      "3750,53.21097983709036,350.92384629761165\n",
      "4000,41.2721947485884,170.28381096359956\n",
      "4250,43.18461554433611,258.36215870394705\n",
      "4500,33.23473574360327,143.4855833991558\n",
      "4750,45.97591096538064,277.05543205277417\n",
      "5000,47.18343468253582,296.0100141708387\n"
     ]
    }
   ],
   "source": [
    "from sys import stdout\n",
    "\n",
    "print('Equilibrating...')\n",
    "\n",
    "#The websote notes that each step is 2 femtoseconds long.\n",
    "#1000 femtoseconds = 1 picosecond, so I changed the step cound=ts accordingly.\n",
    "simulation.reporters.append(app.StateDataReporter(stdout, 250, step=True, \n",
    "    potentialEnergy=True, temperature=True, separator=','))\n",
    "simulation.context.setVelocitiesToTemperature(150.0*unit.kelvin)\n",
    "#The previous equilibration took 5000 femtoseconds = 5 picoseconds.\n",
    "#Therefore, multiply by 2.\n",
    "simulation.step(2500*2)"
   ]
  },
  {
   "cell_type": "code",
   "execution_count": 22,
   "metadata": {},
   "outputs": [
    {
     "name": "stdout",
     "output_type": "stream",
     "text": [
      "Running Production...\n",
      "#\"Step\",\"Time (ps)\",\"Potential Energy (kJ/mole)\",\"Temperature (K)\",\"Speed (ns/day)\"\n",
      "500000,999.9999999901769,49.51461367540766,315.79723443306204,--\n",
      "1000000,1999.9999999665301,46.53326228558774,250.94753975811935,6.72e+03\n",
      "1500000,2999.9999999428833,38.204121007133665,130.30446475219108,6.84e+03\n",
      "2000000,3999.9999999192364,47.13049461752717,268.8892100163739,6.94e+03\n",
      "2500000,5000.000000101135,37.10114308500187,191.7462074058089,7e+03\n",
      "3000000,6000.000000304862,41.77738620400497,269.7954999348099,7.01e+03\n",
      "3500000,7000.0000005085885,36.317161972337765,307.5995881106668,6.97e+03\n",
      "4000000,8000.000000712315,42.5369796530264,331.57731429347467,6.99e+03\n",
      "4500000,9000.000000916041,40.15647437483511,537.362927386963,6.99e+03\n",
      "5000000,10000.000001119768,34.14893256769438,310.6304238278244,6.98e+03\n",
      "5500000,11000.000001323495,61.26465617198138,335.34773047445725,6.96e+03\n",
      "6000000,12000.000001527222,37.82016384456765,390.87163354318415,7e+03\n",
      "6500000,13000.000001730948,34.69807183577008,386.1782635334991,7.02e+03\n",
      "7000000,14000.000001934675,27.34227292836248,200.77599329523568,7.05e+03\n",
      "7500000,15000.000002138402,39.11862161398543,342.71028495205763,7.04e+03\n",
      "8000000,16000.000002342129,53.84555311928513,271.6131966986088,7.07e+03\n",
      "8500000,17000.000002545854,40.5342258705668,285.82817977555345,7.09e+03\n",
      "9000000,18000.00000274958,44.347414576590126,356.6512636755299,7.09e+03\n",
      "9500000,19000.000002953308,41.155721979065945,372.7960408310467,7.06e+03\n",
      "10000000,20000.000003157034,33.923674684149475,324.98493545559586,7.06e+03\n",
      "10500000,21000.00000336076,42.998051102543954,222.45365454378629,7.06e+03\n",
      "11000000,22000.000003564488,32.96207876988056,388.37762162500303,7.08e+03\n",
      "11500000,23000.000003768215,65.60363505378635,429.35899091195597,7.07e+03\n",
      "12000000,24000.00000397194,58.77475581748463,285.2729022196089,7.07e+03\n",
      "12500000,25000.00000417567,48.78135044769243,314.22493590393634,7.08e+03\n",
      "13000000,26000.000004379395,61.59376957871574,229.13946306859424,7.07e+03\n",
      "13500000,27000.000004583122,36.90182742219349,423.67159912455685,7.07e+03\n",
      "14000000,28000.00000478685,33.42100624272759,235.19765955452561,7.05e+03\n",
      "14500000,29000.000004990576,32.45384033401073,266.9976173484114,7.06e+03\n",
      "15000000,30000.000005194303,38.09279030503615,395.5132439090487,7.06e+03\n",
      "15500000,31000.00000539803,31.760516652198547,322.68276791238753,7.07e+03\n",
      "16000000,32000.000005601756,44.528978726323764,250.42615356098653,7.05e+03\n",
      "16500000,33000.00000580548,63.79564840161984,287.558801895091,7.06e+03\n",
      "17000000,34000.000006009206,54.03084029022638,392.3563450507735,7.07e+03\n",
      "17500000,35000.00000621293,52.84014565780056,300.2590919977932,7.05e+03\n",
      "18000000,36000.00000641666,37.73192614910104,451.3871919343018,7.05e+03\n",
      "18500000,37000.00000662039,24.892611756696446,193.71451582938326,7.05e+03\n",
      "19000000,38000.00000682411,20.829418650680232,236.80974987198772,7.04e+03\n",
      "19500000,39000.00000702784,40.29055866821001,343.9109671570938,7.05e+03\n",
      "20000000,40000.00000723157,49.06537563121762,371.66248808435034,7.05e+03\n",
      "Done!\n",
      "Time required for simulation: 489.596866607666 seconds\n"
     ]
    }
   ],
   "source": [
    "print('Running Production...')\n",
    "\n",
    "# Begin timer\n",
    "tinit=time.time()\n",
    "\n",
    "# Clear simulation reporters\n",
    "simulation.reporters.clear()\n",
    "\n",
    "# Reinitialize simulation reporters. We do this because we want different information printed from the production run than the equilibration run.\n",
    "# output basic simulation information below every 2*250000 steps - (which is equal to 2*2 fs(250,000) = 2*500,000 fs = 2*500 ps)\n",
    "# = 1 ns\n",
    "simulation.reporters.append(app.StateDataReporter(stdout, 2*250000, \n",
    "    step=True, time=True, potentialEnergy=True, temperature=True, \n",
    "    speed=True, separator=','))\n",
    "\n",
    "# write out a trajectory (i.e., coordinates vs. time) to a DCD\n",
    "# file every 100 steps - 0.2 ps. This time, write to butane's file.\n",
    "simulation.reporters.append(app.DCDReporter('butane_sim.dcd', 100))\n",
    "\n",
    "# run the simulation for 2*1.0x10^7 steps - 2*20 ns = 40 ns\n",
    "simulation.step(2*10000000)\n",
    "\n",
    "# End timer\n",
    "tfinal=time.time()\n",
    "print('Done!')\n",
    "print('Time required for simulation:', tfinal-tinit, 'seconds')"
   ]
  },
  {
   "cell_type": "code",
   "execution_count": 3,
   "metadata": {},
   "outputs": [
    {
     "data": {
      "text/plain": [
       "<mdtraj.Trajectory with 10000 frames, 14 atoms, 1 residues, without unitcells at 0x2e08433fd30>"
      ]
     },
     "execution_count": 3,
     "metadata": {},
     "output_type": "execute_result"
    }
   ],
   "source": [
    "#print(workDir+'butane_sim.dcd')\n",
    "#simulation.reporters.append(app.DCDReporter(workDir+'butane_sim.dcd', 100))\n",
    "traj = md.load('butane_sim.dcd', top='butane.pdb')\n",
    "traj\n",
    "#traj.superpose(ref)"
   ]
  },
  {
   "cell_type": "code",
   "execution_count": 5,
   "metadata": {},
   "outputs": [
    {
     "data": {
      "application/vnd.jupyter.widget-view+json": {
       "model_id": "a4fc77a5831246d0bf88c81fe26d5d1c",
       "version_major": 2,
       "version_minor": 0
      },
      "text/plain": [
       "NGLWidget(max_frame=9999)"
      ]
     },
     "metadata": {},
     "output_type": "display_data"
    }
   ],
   "source": [
    "#jupyter-nbextension enable --py --user nglview\n",
    "#jupyter-nbextension enable --py --user widgetsnbextension \n",
    "\n",
    "import ipywidgets\n",
    "from ipywidgets import interact, fixed\n",
    "import warnings\n",
    "import nglview as ngl\n",
    "from nglview.player import TrajectoryPlayer\n",
    "traj = md.load('butane_sim.dcd', top='butane.pdb')\n",
    "t = ngl.MDTrajTrajectory(traj)\n",
    "w = ngl.NGLWidget(t)\n",
    "w"
   ]
  },
  {
   "cell_type": "code",
   "execution_count": 6,
   "metadata": {},
   "outputs": [
    {
     "data": {
      "text/html": [
       "<div>\n",
       "<style scoped>\n",
       "    .dataframe tbody tr th:only-of-type {\n",
       "        vertical-align: middle;\n",
       "    }\n",
       "\n",
       "    .dataframe tbody tr th {\n",
       "        vertical-align: top;\n",
       "    }\n",
       "\n",
       "    .dataframe thead th {\n",
       "        text-align: right;\n",
       "    }\n",
       "</style>\n",
       "<table border=\"1\" class=\"dataframe\">\n",
       "  <thead>\n",
       "    <tr style=\"text-align: right;\">\n",
       "      <th></th>\n",
       "      <th>serial</th>\n",
       "      <th>name</th>\n",
       "      <th>element</th>\n",
       "      <th>resSeq</th>\n",
       "      <th>resName</th>\n",
       "      <th>chainID</th>\n",
       "      <th>segmentID</th>\n",
       "    </tr>\n",
       "  </thead>\n",
       "  <tbody>\n",
       "    <tr>\n",
       "      <th>0</th>\n",
       "      <td>1</td>\n",
       "      <td>C1</td>\n",
       "      <td>C</td>\n",
       "      <td>1</td>\n",
       "      <td>NBU</td>\n",
       "      <td>0</td>\n",
       "      <td></td>\n",
       "    </tr>\n",
       "    <tr>\n",
       "      <th>1</th>\n",
       "      <td>2</td>\n",
       "      <td>H11</td>\n",
       "      <td>H</td>\n",
       "      <td>1</td>\n",
       "      <td>NBU</td>\n",
       "      <td>0</td>\n",
       "      <td></td>\n",
       "    </tr>\n",
       "    <tr>\n",
       "      <th>2</th>\n",
       "      <td>3</td>\n",
       "      <td>H12</td>\n",
       "      <td>H</td>\n",
       "      <td>1</td>\n",
       "      <td>NBU</td>\n",
       "      <td>0</td>\n",
       "      <td></td>\n",
       "    </tr>\n",
       "    <tr>\n",
       "      <th>3</th>\n",
       "      <td>4</td>\n",
       "      <td>H13</td>\n",
       "      <td>H</td>\n",
       "      <td>1</td>\n",
       "      <td>NBU</td>\n",
       "      <td>0</td>\n",
       "      <td></td>\n",
       "    </tr>\n",
       "    <tr>\n",
       "      <th>4</th>\n",
       "      <td>5</td>\n",
       "      <td>C2</td>\n",
       "      <td>C</td>\n",
       "      <td>1</td>\n",
       "      <td>NBU</td>\n",
       "      <td>0</td>\n",
       "      <td></td>\n",
       "    </tr>\n",
       "    <tr>\n",
       "      <th>5</th>\n",
       "      <td>6</td>\n",
       "      <td>H21</td>\n",
       "      <td>H</td>\n",
       "      <td>1</td>\n",
       "      <td>NBU</td>\n",
       "      <td>0</td>\n",
       "      <td></td>\n",
       "    </tr>\n",
       "    <tr>\n",
       "      <th>6</th>\n",
       "      <td>7</td>\n",
       "      <td>H22</td>\n",
       "      <td>H</td>\n",
       "      <td>1</td>\n",
       "      <td>NBU</td>\n",
       "      <td>0</td>\n",
       "      <td></td>\n",
       "    </tr>\n",
       "    <tr>\n",
       "      <th>7</th>\n",
       "      <td>8</td>\n",
       "      <td>C3</td>\n",
       "      <td>C</td>\n",
       "      <td>1</td>\n",
       "      <td>NBU</td>\n",
       "      <td>0</td>\n",
       "      <td></td>\n",
       "    </tr>\n",
       "    <tr>\n",
       "      <th>8</th>\n",
       "      <td>9</td>\n",
       "      <td>H31</td>\n",
       "      <td>H</td>\n",
       "      <td>1</td>\n",
       "      <td>NBU</td>\n",
       "      <td>0</td>\n",
       "      <td></td>\n",
       "    </tr>\n",
       "    <tr>\n",
       "      <th>9</th>\n",
       "      <td>10</td>\n",
       "      <td>H32</td>\n",
       "      <td>H</td>\n",
       "      <td>1</td>\n",
       "      <td>NBU</td>\n",
       "      <td>0</td>\n",
       "      <td></td>\n",
       "    </tr>\n",
       "    <tr>\n",
       "      <th>10</th>\n",
       "      <td>11</td>\n",
       "      <td>C4</td>\n",
       "      <td>C</td>\n",
       "      <td>1</td>\n",
       "      <td>NBU</td>\n",
       "      <td>0</td>\n",
       "      <td></td>\n",
       "    </tr>\n",
       "    <tr>\n",
       "      <th>11</th>\n",
       "      <td>12</td>\n",
       "      <td>H41</td>\n",
       "      <td>H</td>\n",
       "      <td>1</td>\n",
       "      <td>NBU</td>\n",
       "      <td>0</td>\n",
       "      <td></td>\n",
       "    </tr>\n",
       "    <tr>\n",
       "      <th>12</th>\n",
       "      <td>13</td>\n",
       "      <td>H42</td>\n",
       "      <td>H</td>\n",
       "      <td>1</td>\n",
       "      <td>NBU</td>\n",
       "      <td>0</td>\n",
       "      <td></td>\n",
       "    </tr>\n",
       "    <tr>\n",
       "      <th>13</th>\n",
       "      <td>14</td>\n",
       "      <td>H43</td>\n",
       "      <td>H</td>\n",
       "      <td>1</td>\n",
       "      <td>NBU</td>\n",
       "      <td>0</td>\n",
       "      <td></td>\n",
       "    </tr>\n",
       "  </tbody>\n",
       "</table>\n",
       "</div>"
      ],
      "text/plain": [
       "    serial name element  resSeq resName  chainID segmentID\n",
       "0        1   C1       C       1     NBU        0          \n",
       "1        2  H11       H       1     NBU        0          \n",
       "2        3  H12       H       1     NBU        0          \n",
       "3        4  H13       H       1     NBU        0          \n",
       "4        5   C2       C       1     NBU        0          \n",
       "5        6  H21       H       1     NBU        0          \n",
       "6        7  H22       H       1     NBU        0          \n",
       "7        8   C3       C       1     NBU        0          \n",
       "8        9  H31       H       1     NBU        0          \n",
       "9       10  H32       H       1     NBU        0          \n",
       "10      11   C4       C       1     NBU        0          \n",
       "11      12  H41       H       1     NBU        0          \n",
       "12      13  H42       H       1     NBU        0          \n",
       "13      14  H43       H       1     NBU        0          "
      ]
     },
     "execution_count": 6,
     "metadata": {},
     "output_type": "execute_result"
    }
   ],
   "source": [
    "atoms, bonds = traj.topology.to_dataframe()\n",
    "atoms"
   ]
  },
  {
   "cell_type": "code",
   "execution_count": 7,
   "metadata": {},
   "outputs": [
    {
     "name": "stdout",
     "output_type": "stream",
     "text": [
      "[ 0  4  7 10]\n",
      "NBU1-C1\n",
      "NBU1-C2\n",
      "NBU1-C3\n",
      "NBU1-C4\n"
     ]
    }
   ],
   "source": [
    "top=traj.topology\n",
    "top\n",
    "\n",
    "#Select All Carbon Atoms\n",
    "C_sel=top.select(\"type C\")\n",
    "print(C_sel)\n",
    "#Confirm that we have selected what we think we have\n",
    "for atom in C_sel:\n",
    "    print(top.atom(atom))"
   ]
  },
  {
   "cell_type": "code",
   "execution_count": 20,
   "metadata": {},
   "outputs": [
    {
     "data": {
      "image/png": "[encoded data removed]",
      "text/plain": [
       "<Figure size 432x288 with 1 Axes>"
      ]
     },
     "metadata": {
      "needs_background": "light"
     },
     "output_type": "display_data"
    },
    {
     "data": {
      "image/png": "[encoded data removed]",
      "text/plain": [
       "<Figure size 432x288 with 1 Axes>"
      ]
     },
     "metadata": {
      "needs_background": "light"
     },
     "output_type": "display_data"
    }
   ],
   "source": [
    "import matplotlib.pyplot as plt\n",
    "#Compute Some Distances and plot the time course - Bond 0-4\n",
    "bond_indices = [0, 4] \n",
    "C1C2bondlength = md.compute_distances(traj, [bond_indices])\n",
    "bond_indices = [4, 7]\n",
    "C2C3bondlength = md.compute_distances(traj, [bond_indices])\n",
    "bond_indices = [7, 10]\n",
    "C3C4bondlength = md.compute_distances(traj, [bond_indices])\n",
    "\n",
    "plt.plot(C1C2bondlength)\n",
    "plt.xlabel('Frame', size=18)\n",
    "plt.xticks(size=18)\n",
    "plt.yticks(size=18)\n",
    "plt.ylabel('Bond Length', size=18)\n",
    "plt.title('C1-C2 Bond Length')\n",
    "\n",
    "plt.show()\n",
    "plt.clf()\n",
    "\n",
    "plt.hist(C1C2bondlength,bins=50,histtype='step')\n",
    "plt.xlabel('Frame', size=18)\n",
    "plt.xticks(size=18)\n",
    "plt.yticks(size=18)\n",
    "plt.ylabel('Counts', size=18)\n",
    "plt.title('C1-C2 Bond Length')\n",
    "plt.show()"
   ]
  },
  {
   "cell_type": "code",
   "execution_count": 21,
   "metadata": {},
   "outputs": [
    {
     "data": {
      "text/plain": [
       "[<matplotlib.lines.Line2D at 0x2e08846db70>]"
      ]
     },
     "execution_count": 21,
     "metadata": {},
     "output_type": "execute_result"
    },
    {
     "data": {
      "image/png": "[encoded data removed]",
      "text/plain": [
       "<Figure size 432x288 with 1 Axes>"
      ]
     },
     "metadata": {
      "needs_background": "light"
     },
     "output_type": "display_data"
    }
   ],
   "source": [
    "import numpy as np\n",
    "bondlengths=np.linspace(0.140,0.168,30)\n",
    "\n",
    "#array bond lenghts\n",
    "def harmonic_bond_E(k,b,b0):\n",
    "    return k/2*(b-b0)**2\n",
    "\n",
    "Bond_E=harmonic_bond_E(1945727.27,bondlengths,0.15380)\n",
    "\n",
    "plt.plot(bondlengths,Bond_E)"
   ]
  },
  {
   "cell_type": "code",
   "execution_count": 34,
   "metadata": {},
   "outputs": [
    {
     "data": {
      "image/png": "[encoded data removed]",
      "text/plain": [
       "<Figure size 432x288 with 1 Axes>"
      ]
     },
     "metadata": {
      "needs_background": "light"
     },
     "output_type": "display_data"
    },
    {
     "data": {
      "text/plain": [
       "<matplotlib.legend.Legend at 0x2e0887a2d68>"
      ]
     },
     "execution_count": 34,
     "metadata": {},
     "output_type": "execute_result"
    },
    {
     "data": {
      "image/png": "[encoded data removed]",
      "text/plain": [
       "<Figure size 432x288 with 1 Axes>"
      ]
     },
     "metadata": {
      "needs_background": "light"
     },
     "output_type": "display_data"
    }
   ],
   "source": [
    "bond_indices = [[0, 4],[4, 7],[7, 10]]\n",
    "CC_bondlengths = md.compute_distances(traj, bond_indices)\n",
    "\n",
    "C1C2_bond=np.shape(CC_bondlengths[:,0])\n",
    "C2C3_bond=np.shape(CC_bondlengths[:,1])\n",
    "C3C4_bond=np.shape(CC_bondlengths[:,2])\n",
    "\n",
    "plt.plot(CC_bondlengths,label=['C1C2','C2C3','C3C4'])\n",
    "plt.legend()\n",
    "plt.show()\n",
    "plt.clf()\n",
    "\n",
    "plt.hist(CC_bondlengths,label=['C1C2','C2C3','C3C4'])\n",
    "plt.legend()"
   ]
  },
  {
   "cell_type": "code",
   "execution_count": 35,
   "metadata": {},
   "outputs": [],
   "source": [
    "#Compute Some Distances and plot the time course - Bond 0-4\n",
    "\n",
    "#bond_indices = [4, 7] \n",
    "#See above"
   ]
  },
  {
   "cell_type": "code",
   "execution_count": 36,
   "metadata": {},
   "outputs": [],
   "source": [
    "#Compute Some Distances and plot the time course - Bond 0-4\n",
    "#bond_indices = [7, 10] \n",
    "#See above"
   ]
  },
  {
   "cell_type": "code",
   "execution_count": 37,
   "metadata": {},
   "outputs": [],
   "source": [
    "#Plot Histograms of Each Bond Length\n",
    "#See above"
   ]
  },
  {
   "cell_type": "code",
   "execution_count": 41,
   "metadata": {},
   "outputs": [
    {
     "name": "stdout",
     "output_type": "stream",
     "text": [
      "Average: 0.15391365 Variance 1.877708e-06 STD 0.0013702948\n"
     ]
    }
   ],
   "source": [
    "######Class Activtiy: Calculate the Variance and Standard Deviation of Each Bond Length######\n",
    "bond_indices = [[0, 4],[4, 7],[7, 10]]\n",
    "CC_bondlengths = md.compute_distances(traj, bond_indices)\n",
    "\n",
    "C1C2_bond=CC_bondlengths[:,0]\n",
    "C2C3_bond=CC_bondlengths[:,1]\n",
    "C3C4_bond=CC_bondlengths[:,2]\n",
    "ave=np.average(C1C2_bond)\n",
    "var=np.var(C1C2_bond)\n",
    "std=np.std(C1C2_bond)\n",
    "\n",
    "print(\"Average:\",ave,\"Variance\",var,\"STD\",std)"
   ]
  },
  {
   "cell_type": "code",
   "execution_count": 42,
   "metadata": {},
   "outputs": [
    {
     "name": "stdout",
     "output_type": "stream",
     "text": [
      "C1-C2 var: 1.877708e-06 C2-C3 var: 1.9097258e-06 C3-C4 var: 1.9028457e-06\n",
      "C1-C2 std: 0.001370294848967931 C2-C3 std: 0.0013819282993662366 C3-C4 std: 0.0013794367417696333\n"
     ]
    }
   ],
   "source": [
    "###SOLUTION###\n",
    "bond_indices = [[0, 4],[4, 7],[7, 10]]\n",
    "CC_bondlengths = md.compute_distances(traj, bond_indices)\n",
    "\n",
    "C1C2_bond=CC_bondlengths[:,0]\n",
    "C2C3_bond=CC_bondlengths[:,1]\n",
    "C3C4_bond=CC_bondlengths[:,2]\n",
    "def variance(data):\n",
    "    ave=np.average(data)\n",
    "    var= np.average((data-ave)**2)\n",
    "    std=var**0.5\n",
    "    return var,std\n",
    "\n",
    "\n",
    "C1C2var,C1C2std=variance(C1C2bondlength)\n",
    "C2C3var,C2C3std=variance(C2C3bondlength)\n",
    "C3C4var,C3C4std=variance(C3C4bondlength)\n",
    "print(\"C1-C2 var:\",C1C2var,\"C2-C3 var:\",C2C3var,\"C3-C4 var:\",C3C4var)\n",
    "print(\"C1-C2 std:\",C1C2std,\"C2-C3 std:\",C2C3std,\"C3-C4 std:\",C3C4std)"
   ]
  },
  {
   "cell_type": "code",
   "execution_count": 43,
   "metadata": {},
   "outputs": [
    {
     "data": {
      "text/plain": [
       "array([0.15287682, 0.15568542, 0.15453506, ..., 0.15185185, 0.15249361,\n",
       "       0.15720606], dtype=float32)"
      ]
     },
     "execution_count": 43,
     "metadata": {},
     "output_type": "execute_result"
    }
   ],
   "source": [
    "#Lets Check Our Answers with the Built In Numpy Libraries np.var and np.std\n",
    "bond_indices = [[0, 4],[4, 7],[7, 10]]\n",
    "CC_bondlengths = md.compute_distances(traj, bond_indices)\n",
    "\n",
    "C1C2_bond=CC_bondlengths[:,0]\n",
    "C2C3_bond=CC_bondlengths[:,1]\n",
    "C3C4_bond=CC_bondlengths[:,2]\n",
    "C1C2_bond"
   ]
  },
  {
   "cell_type": "code",
   "execution_count": 44,
   "metadata": {},
   "outputs": [
    {
     "name": "stdout",
     "output_type": "stream",
     "text": [
      "R2: -0.07686206044416956\n",
      "Line Parameters: [-0.0775146   0.16587652]\n"
     ]
    },
    {
     "data": {
      "image/png": "[encoded data removed]",
      "text/plain": [
       "<Figure size 432x288 with 1 Axes>"
      ]
     },
     "metadata": {
      "needs_background": "light"
     },
     "output_type": "display_data"
    },
    {
     "name": "stdout",
     "output_type": "stream",
     "text": [
      "Line Parameters: [0.00388825 0.15330362]\n"
     ]
    },
    {
     "data": {
      "image/png": "[encoded data removed]",
      "text/plain": [
       "<Figure size 432x288 with 1 Axes>"
      ]
     },
     "metadata": {
      "needs_background": "light"
     },
     "output_type": "display_data"
    },
    {
     "name": "stdout",
     "output_type": "stream",
     "text": [
      "R2: 0.003862477153771339\n"
     ]
    },
    {
     "data": {
      "text/plain": [
       "<Figure size 432x288 with 0 Axes>"
      ]
     },
     "metadata": {},
     "output_type": "display_data"
    }
   ],
   "source": [
    "#####Are these bond lengths correlated?##### \n",
    "###Calculate and plot a best fit line, and calculate the correlation coefficient####\n",
    "\n",
    "#plt.scatter(C1C2bondlength,C2C3bondlength,marker='x',linewidth=0.05)\n",
    "#######SOLUTION###########\n",
    "\n",
    "plt.scatter(C1C2_bond,C2C3_bond,marker='x',linewidth=.05)\n",
    "\n",
    "r2=np.corrcoef(C1C2_bond,C2C3_bond)[0,1]\n",
    "print(\"R2:\",r2)\n",
    "\n",
    "line_fit=np.polyfit(C1C2_bond,C2C3_bond,1)\n",
    "x = np.linspace(min(C1C2_bond), max(C1C2_bond),20)\n",
    "y = line_fit[0]*x+line_fit[1]\n",
    "print(\"Line Parameters:\",line_fit)\n",
    "plt.plot(x,y,c='r',label='best fit line')\n",
    "plt.show()\n",
    "plt.clf()\n",
    "\n",
    "plt.scatter(C1C2_bond,C3C4_bond,marker='x',linewidth=.05)\n",
    "x = np.linspace(min(C1C2_bond), max(C1C2_bond),20)\n",
    "line_fit=np.polyfit(C1C2_bond,C3C4_bond,1)\n",
    "y = line_fit[0]*x+line_fit[1]\n",
    "print(\"Line Parameters:\",line_fit)\n",
    "plt.plot(x,y,c='r',label='best fit line')\n",
    "plt.show()\n",
    "plt.clf()\n",
    "\n",
    "r2=np.corrcoef(C1C2_bond,C3C4_bond)[0,1]\n",
    "\n",
    "print(\"R2:\",r2)"
   ]
  },
  {
   "cell_type": "code",
   "execution_count": 47,
   "metadata": {},
   "outputs": [
    {
     "name": "stderr",
     "output_type": "stream",
     "text": [
      "C:\\Users\\leman\\Anaconda3\\lib\\site-packages\\scipy\\optimize\\minpack.py:787: OptimizeWarning: Covariance of the parameters could not be estimated\n",
      "  category=OptimizeWarning)\n"
     ]
    },
    {
     "name": "stdout",
     "output_type": "stream",
     "text": [
      "a: 1.0 x0: 1.0 fit_sigma: 1.0\n"
     ]
    },
    {
     "data": {
      "image/png": "[encoded data removed]",
      "text/plain": [
       "<Figure size 432x288 with 1 Axes>"
      ]
     },
     "metadata": {
      "needs_background": "light"
     },
     "output_type": "display_data"
    }
   ],
   "source": [
    "#Lets calculate a Probability Density and fit a gaussian to these\n",
    "#First lets pull out the data in a formate we can fit\n",
    "#https://numpy.org/doc/stable/reference/generated/numpy.histogram.html\n",
    "#https://docs.scipy.org/doc/scipy/reference/generated/scipy.optimize.curve_fit.html\n",
    "\n",
    "from scipy.optimize import curve_fit\n",
    "\n",
    "#First we convery our histogram into bin centers and probabilities\n",
    "#isntead of bin edges and counts:\n",
    "\n",
    "counts, edges = np.histogram(C1C2_bond, bins=20, range=[0.147,0.160])\n",
    "centers = edges[:-1] + np.diff(edges)/2\n",
    "density=counts/np.sum(counts)\n",
    "\n",
    "###Now we define a gaussian function that we'll fit to our probability densities\n",
    "\n",
    "def histogram_bincenters(a,x0,xmax,bins):\n",
    "    counts, edges = np.histogram(a, bins=bins, range=[x0, xmax])\n",
    "    centers = edges[:-1] + np.diff(edges)/2\n",
    "    density=counts/np.sum(counts)\n",
    "    return density, centers\n",
    "\n",
    "\n",
    "def gauss(x, a, x0, sigma):\n",
    "    return (a*np.exp(-(x-x0)**2/(2*sigma**2)))\n",
    "\n",
    "#### Now we define a function to fit the gaussian with curve fit\n",
    "\n",
    "def fit_gauss(x,y):\n",
    "    parameters, covariance = curve_fit(gauss, x, y)\n",
    "    fit_a = parameters[0]\n",
    "    fit_x0 = parameters[1]\n",
    "    fit_sigma = parameters[2]\n",
    "    print(\"a:\",fit_a,\"x0:\",fit_x0,\"fit_sigma:\",fit_sigma)\n",
    "    fit_y = gauss(centers, fit_a, fit_x0,fit_sigma)\n",
    "    return fit_y,[fit_a,fit_x0,fit_sigma] \n",
    "\n",
    "\n",
    "\n",
    "\n",
    "C1C2_density,centers=histogram_bincenters(C1C2_bond,0.147,0.160,20)\n",
    "\n",
    "C1C2_fit,C1C2_fit_params=fit_gauss(centers,C1C2_density)\n",
    "\n",
    "plt.plot(centers, C1C2_density, 'o', label='C1-C2')\n",
    "plt.plot(centers, C1C2_fit, '-', label='fit C1C2')\n",
    "\n",
    "plt.legend()\n",
    "plt.xlabel('Bond Length', size=15)\n",
    "plt.xticks(size=15)\n",
    "plt.ylabel('Probability', size=15)\n",
    "plt.yticks(size=15)\n",
    "plt.show()"
   ]
  },
  {
   "cell_type": "code",
   "execution_count": null,
   "metadata": {},
   "outputs": [],
   "source": [
    "#Can you write a function to calculate the histogram, return the density and centers,\n",
    "#and then fit a guassian to each of these distributions? \n",
    "\n",
    "####SOLUTION####"
   ]
  },
  {
   "cell_type": "code",
   "execution_count": null,
   "metadata": {},
   "outputs": [],
   "source": [
    "#ADD CODE FOR CDFs HERE#"
   ]
  },
  {
   "cell_type": "code",
   "execution_count": null,
   "metadata": {},
   "outputs": [],
   "source": [
    "#ADD CODE FOR Random Samples here#\n",
    "#Draw 10,100,1000 random samples of a bond angle,\n",
    "\n",
    "#This function might be helpful:\n",
    "rands=np.random.randint(10000, size=(10))\n",
    "rands\n"
   ]
  },
  {
   "cell_type": "code",
   "execution_count": null,
   "metadata": {},
   "outputs": [],
   "source": [
    "#Lets Compute Some Bond Angles \n",
    "Angle1=[0,4,7]\n",
    "Angle2=[4,7,10]\n",
    "\n",
    "ang = md.compute_angles(traj,[Angle1,Angle2])\n",
    "#ang=np.degrees(angle_rad)"
   ]
  },
  {
   "cell_type": "code",
   "execution_count": null,
   "metadata": {},
   "outputs": [],
   "source": [
    "####Challenge Question Can you estimate the lifetime of the higher energy C-C-C-C dihedral states####"
   ]
  },
  {
   "cell_type": "code",
   "execution_count": null,
   "metadata": {},
   "outputs": [],
   "source": [
    "#Are the bond angle and dihedral correlated?\n",
    "plt.scatter(dihe,ang1,marker='x',linewidth=0.01)\n",
    "plt.scatter(dihe,ang2,marker='x',linewidth=0.01)\n",
    "\n",
    "#plt.scatter(ang1[1:-1:10],ang2[1:-1:10])\n",
    "#r=np.corrcoef(ang1, ang2)\n",
    "#print(\"Angle Correlation r^2:\",r[0,1])"
   ]
  },
  {
   "cell_type": "code",
   "execution_count": null,
   "metadata": {},
   "outputs": [],
   "source": [
    "#Homework problem 3##"
   ]
  },
  {
   "cell_type": "code",
   "execution_count": null,
   "metadata": {},
   "outputs": [],
   "source": [
    "#Lets Calculate the autocorrelation times for bond lengths, bond angles, and torsions:\n",
    "def autocorr1(x,lags):\n",
    "    '''numpy.corrcoef, partial'''\n",
    "    corr=[1. if l==0 else numpy.corrcoef(x[l:],x[:-l])[0][1] for l in lags]\n",
    "    return numpy.array(corr)\n",
    "\n",
    "#time in picoseconds\n",
    "time=np.linspace(0,20000,traj.n_frames)\n",
    "print(time)\n",
    "\n",
    "lags=range(500)\n",
    "#C1C2bondlength[:,0]\n",
    "bond_autocor=autocorr1(C1C2bondlength[:,0],lags)\n",
    "ang_autocor=autocorr1(ang1,lags)\n",
    "dihe_autocor=autocorr1(np.cos(CCCC_torsion[:,0]),lags)\n",
    "plt.plot(time[lags],bond_autocor,color='b',label='C-C bond')\n",
    "plt.plot(time[lags],ang_autocor,color='r',label='C-C-C angle')\n",
    "plt.plot(time[lags],dihe_autocor,color='g',label='C-C-C-C dihedral')\n",
    "plt.legend()"
   ]
  },
  {
   "cell_type": "code",
   "execution_count": null,
   "metadata": {},
   "outputs": [],
   "source": [
    "#Plot The Torsion Force Field Terms\n",
    "\n",
    "#First Lets make a linespace from -pi to pi\n",
    "rad_ang=np.linspace(0,2*math.pi,30)\n",
    "\n",
    "##Lets right a function that takes paramters from the xml and writes the force field term\n"
   ]
  },
  {
   "cell_type": "code",
   "execution_count": null,
   "metadata": {},
   "outputs": [],
   "source": [
    "##Lets Review all our atoms as we attempt to tabulate all the relevant torsion terms\n",
    "atoms, bonds = traj.topology.to_dataframe()\n",
    "atoms"
   ]
  },
  {
   "cell_type": "code",
   "execution_count": null,
   "metadata": {},
   "outputs": [],
   "source": [
    "#Lets Tally Up All The Torsions Along the Central Carbon\n",
    "#Atomnames: (H41,H42,H43)-C4-C3(H31,H32)-C2(H21,H22)-C1(H11,H12,H13)\n",
    "#Atomnumbers: (13,12,11)-10-(8,9)7-4(5,6)-0(1,2,3)"
   ]
  },
  {
   "cell_type": "code",
   "execution_count": null,
   "metadata": {},
   "outputs": [],
   "source": [
    "####Homework Problem 5 - Correlations in torsion paramters###\n",
    "#PLOT SOME TORSIONS THAT YOU EXPECT TO BE HIGHLY CORRELATED - EXPLAIN WHY - EXPLAIN WHAT OU SEE\n",
    "#Consider CCCC vs. [8,7,4,5]\n",
    "\n",
    "\n",
    "#PLOT SOME TORSIONS THAT YOU EXPECT TO BE UNCORRELATED - Explain what you see\n",
    "#Consider CCCC vs. [12,10,7,9]\n"
   ]
  },
  {
   "cell_type": "code",
   "execution_count": null,
   "metadata": {},
   "outputs": [],
   "source": [
    "#SELECT TWO TORSIONS THAT YOU EXPECT TO HAVE A SYSTEMATIC OFFSET \n",
    "#CALCULATE THEIR OFFSET IN EACH FRAME - EXPLAIN YOUR RESULT\n",
    "#plt.scatter(CCCC_torsion,HCCH_torsions[:,1],marker='x',linewidth=0.04)\n",
    "#diff=CCCC_torsion[:,0]-HCCH_torsions[:,3]"
   ]
  },
  {
   "cell_type": "code",
   "execution_count": null,
   "metadata": {},
   "outputs": [],
   "source": [
    "#COMPUTE THE TOTAL TORSION FORCE FIELD ENERGY PER FRAME\n",
    "\n",
    "#plt.scatter(CCCH_torsions[:,0],CCCH_E[:,0])\n"
   ]
  },
  {
   "cell_type": "code",
   "execution_count": null,
   "metadata": {},
   "outputs": [],
   "source": [
    "#Compare the time course of CCCC torsion with its energy \n",
    "#Interpret what you are seeing in terms of conformations and energies\n",
    "\n"
   ]
  },
  {
   "cell_type": "code",
   "execution_count": null,
   "metadata": {},
   "outputs": [],
   "source": [
    "#Solution\n"
   ]
  },
  {
   "cell_type": "code",
   "execution_count": null,
   "metadata": {},
   "outputs": [],
   "source": [
    "###SOLUTION#####"
   ]
  },
  {
   "cell_type": "code",
   "execution_count": null,
   "metadata": {},
   "outputs": [],
   "source": [
    "#RUN NEW MD SIMULATION HERE#"
   ]
  },
  {
   "cell_type": "code",
   "execution_count": null,
   "metadata": {},
   "outputs": [],
   "source": [
    "#Calculate LJ and Couloumb Potentionals Here"
   ]
  }
 ],
 "metadata": {
  "kernelspec": {
   "display_name": "Python 3",
   "language": "python",
   "name": "python3"
  },
  "language_info": {
   "codemirror_mode": {
    "name": "ipython",
    "version": 3
   },
   "file_extension": ".py",
   "mimetype": "text/x-python",
   "name": "python",
   "nbconvert_exporter": "python",
   "pygments_lexer": "ipython3",
   "version": "3.7.0"
  }
 },
 "nbformat": 4,
 "nbformat_minor": 2
}
