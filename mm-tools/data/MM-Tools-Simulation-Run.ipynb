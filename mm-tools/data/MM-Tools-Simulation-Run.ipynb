{
 "cells": [
  {
   "cell_type": "markdown",
   "metadata": {},
   "source": [
    "I also included the examples they did for the ethane; my work on the problems they did is further down and interspersed within their demonstrations."
   ]
  },
  {
   "cell_type": "code",
   "execution_count": 46,
   "metadata": {},
   "outputs": [],
   "source": [
    "from simtk.openmm import app\n",
    "import simtk.openmm as mm\n",
    "from simtk import unit"
   ]
  },
  {
   "cell_type": "code",
   "execution_count": 47,
   "metadata": {},
   "outputs": [],
   "source": [
    "pdb = app.PDBFile('ethane.pdb')\n",
    "forcefield = app.ForceField('ethane.gaff2.xml')"
   ]
  },
  {
   "cell_type": "code",
   "execution_count": 48,
   "metadata": {},
   "outputs": [],
   "source": [
    "system = forcefield.createSystem(pdb.topology, nonbondedMethod=app.NoCutoff, constraints=app.HBonds)"
   ]
  },
  {
   "cell_type": "code",
   "execution_count": 49,
   "metadata": {},
   "outputs": [],
   "source": [
    "integrator = mm.LangevinIntegrator(298.15*unit.kelvin, 5.0/unit.picoseconds, 2.0*unit.femtoseconds)\n",
    "integrator.setConstraintTolerance(1e-5)"
   ]
  },
  {
   "cell_type": "code",
   "execution_count": 50,
   "metadata": {},
   "outputs": [],
   "source": [
    "platform = mm.Platform.getPlatformByName('Reference')\n",
    "simulation = app.Simulation(pdb.topology, system, integrator, platform)\n",
    "simulation.context.setPositions(pdb.positions)"
   ]
  },
  {
   "cell_type": "code",
   "execution_count": 51,
   "metadata": {},
   "outputs": [
    {
     "name": "stdout",
     "output_type": "stream",
     "text": [
      "Minimizing...\n",
      "Potential energy before minimization is 4.467818224810637 kJ/mol\n",
      "Potential energy after minimization is 4.38996767892269 kJ/mol\n"
     ]
    }
   ],
   "source": [
    "print('Minimizing...')\n",
    "\n",
    "st = simulation.context.getState(getPositions=True,getEnergy=True)\n",
    "print(F\"Potential energy before minimization is {st.getPotentialEnergy()}\")\n",
    "\n",
    "simulation.minimizeEnergy(maxIterations=100)\n",
    "\n",
    "st = simulation.context.getState(getPositions=True,getEnergy=True)\n",
    "print(F\"Potential energy after minimization is {st.getPotentialEnergy()}\")"
   ]
  },
  {
   "cell_type": "code",
   "execution_count": 52,
   "metadata": {},
   "outputs": [
    {
     "name": "stdout",
     "output_type": "stream",
     "text": [
      "Equilibrating...\n",
      "#\"Step\",\"Potential Energy (kJ/mole)\",\"Temperature (K)\"\n",
      "100,16.322550518226684,189.10290135555476\n",
      "200,16.25037227494309,237.65802772465304\n",
      "300,9.17442933861821,327.42297877825996\n",
      "400,15.89859053402837,171.3339938521467\n",
      "500,25.273009728556122,186.135943882494\n",
      "600,14.648002858334031,117.05389835857444\n",
      "700,21.883878731138907,301.78469438754286\n",
      "800,29.37005573723069,359.97026338030906\n",
      "900,55.04758730728305,177.69361765040864\n",
      "1000,29.119388750628715,190.28874649454843\n",
      "1100,22.127599008363873,334.9295742761944\n",
      "1200,23.048314148637374,184.89372941777677\n",
      "1300,15.540865540691183,203.51222787559368\n",
      "1400,21.969035685684794,162.05203036434366\n",
      "1500,19.966968691760044,294.65037282600946\n",
      "1600,17.85640986553838,392.7537475755205\n",
      "1700,26.23358344942062,213.5511163365774\n",
      "1800,26.993193107718977,237.22088823994866\n",
      "1900,14.635423680981347,237.34565518591526\n",
      "2000,29.963664556457047,445.9576418908616\n",
      "2100,21.311434332591638,382.3010686380158\n",
      "2200,20.7555282599382,300.754703470463\n",
      "2300,13.933353340152795,177.4889415107126\n",
      "2400,15.648705091124077,409.0836383656819\n",
      "2500,27.163013156951035,555.6868878424757\n"
     ]
    }
   ],
   "source": [
    "from sys import stdout\n",
    "\n",
    "print('Equilibrating...')\n",
    "\n",
    "simulation.reporters.append(app.StateDataReporter(stdout, 100, step=True, \n",
    "    potentialEnergy=True, temperature=True, separator=','))\n",
    "simulation.context.setVelocitiesToTemperature(150.0*unit.kelvin)\n",
    "simulation.step(2500)"
   ]
  },
  {
   "cell_type": "code",
   "execution_count": 53,
   "metadata": {},
   "outputs": [
    {
     "name": "stdout",
     "output_type": "stream",
     "text": [
      "Running Production...\n",
      "#\"Step\",\"Time (ps)\",\"Potential Energy (kJ/mole)\",\"Temperature (K)\",\"Speed (ns/day)\"\n",
      "250000,500.0000000016593,12.040817679962707,335.0336112672893,0\n",
      "500000,999.9999999901769,22.448134478194678,476.5487750592659,3.4e+04\n",
      "750000,1499.9999999783536,32.531770318605325,385.5240406518095,3.42e+04\n",
      "1000000,1999.9999999665301,17.57517230684943,251.81968625967644,3.42e+04\n",
      "1250000,2499.9999999547067,20.042497019330177,224.49655527752242,3.43e+04\n",
      "1500000,2999.9999999428833,36.69442943869459,215.40381186986662,3.43e+04\n",
      "1750000,3499.99999993106,8.213562241529504,372.12913402999783,3.39e+04\n",
      "2000000,3999.9999999192364,13.447449805689065,293.6323157650553,3.39e+04\n",
      "2250000,4499.9999999992715,14.365008617935613,268.3804643672778,3.4e+04\n",
      "2500000,5000.000000101135,12.544519594972055,300.47270699486387,3.4e+04\n",
      "2750000,5500.000000202998,16.11685978002409,219.07259180527487,3.4e+04\n",
      "3000000,6000.000000304862,21.92497571281524,189.39374026745534,3.4e+04\n",
      "3250000,6500.000000406725,17.659491237196143,255.33556858834618,3.4e+04\n",
      "3500000,7000.0000005085885,26.39754115781006,498.133955567223,3.41e+04\n",
      "3750000,7500.000000610452,14.536962877448975,230.68961778454394,3.41e+04\n",
      "4000000,8000.000000712315,23.97291261725477,188.73738212681596,3.41e+04\n",
      "4250000,8500.000000814178,20.730879878040632,295.59873002352674,3.41e+04\n",
      "4500000,9000.000000916041,33.43983391002266,182.67977241187137,3.4e+04\n",
      "4750000,9500.000001017905,27.660097447523235,320.6487803399427,3.4e+04\n",
      "5000000,10000.000001119768,23.73378990732292,282.68375287770476,3.38e+04\n",
      "5250000,10500.000001221631,22.136189490534083,409.36285679453067,3.38e+04\n",
      "5500000,11000.000001323495,20.16750973465929,484.55157899343834,3.38e+04\n",
      "5750000,11500.000001425358,13.29857108334781,225.37987823254613,3.38e+04\n",
      "6000000,12000.000001527222,17.165954985536015,250.20997549240138,3.38e+04\n",
      "6250000,12500.000001629085,12.588407827027478,211.1879982387641,3.38e+04\n",
      "6500000,13000.000001730948,17.77864215829648,350.8649304698581,3.39e+04\n",
      "6750000,13500.000001832812,24.027240978655094,173.2502402233984,3.39e+04\n",
      "7000000,14000.000001934675,26.775691265392965,242.36843598810336,3.39e+04\n",
      "7250000,14500.000002036539,23.63498058417548,163.0573801785217,3.39e+04\n",
      "7500000,15000.000002138402,12.39934304466906,327.1751190524132,3.39e+04\n",
      "7750000,15500.000002240266,22.187864457280664,177.1531048990866,3.39e+04\n",
      "8000000,16000.000002342129,15.1438157691199,188.43557970268128,3.39e+04\n",
      "8250000,16500.00000244399,14.955073928349698,222.39454281734584,3.39e+04\n",
      "8500000,17000.000002545854,22.817289504788327,254.9834509887653,3.39e+04\n",
      "8750000,17500.000002647717,23.17645511188942,162.82253258826302,3.39e+04\n",
      "9000000,18000.00000274958,20.814604873405887,380.1039461920869,3.4e+04\n",
      "9250000,18500.000002851444,25.08214654070441,273.88262421002844,3.4e+04\n",
      "9500000,19000.000002953308,9.188444093900696,273.5232106771871,3.4e+04\n",
      "9750000,19500.00000305517,29.20101978456494,237.35775347261625,3.4e+04\n",
      "10000000,20000.000003157034,14.823276135203077,142.11459788560217,3.4e+04\n",
      "Done!\n",
      "Time required for simulation: 50.79369831085205 seconds\n"
     ]
    }
   ],
   "source": [
    "import time as time\n",
    "\n",
    "print('Running Production...')\n",
    "\n",
    "# Begin timer\n",
    "tinit=time.time()\n",
    "\n",
    "# Clear simulation reporters\n",
    "simulation.reporters.clear()\n",
    "\n",
    "# Reinitialize simulation reporters. We do this because we want different information printed from the production run than the equilibration run.\n",
    "# output basic simulation information below every 250000 steps - (which is equal to 2 fs(250,000) = 500,000 fs = 500 ps)\n",
    "simulation.reporters.append(app.StateDataReporter(stdout, 250000, \n",
    "    step=True, time=True, potentialEnergy=True, temperature=True, \n",
    "    speed=True, separator=','))\n",
    "\n",
    "# write out a trajectory (i.e., coordinates vs. time) to a DCD\n",
    "# file every 100 steps - 0.2 ps\n",
    "simulation.reporters.append(app.DCDReporter('ethane_sim.dcd', 100))\n",
    "\n",
    "# run the simulation for 1.0x10^7 steps - 20 ns\n",
    "simulation.step(10000000)\n",
    "\n",
    "# End timer\n",
    "tfinal=time.time()\n",
    "print('Done!')\n",
    "print('Time required for simulation:', tfinal-tinit, 'seconds')"
   ]
  },
  {
   "cell_type": "code",
   "execution_count": 54,
   "metadata": {},
   "outputs": [],
   "source": [
    "pdb = app.PDBFile('butane.pdb')\n",
    "forcefield = app.ForceField('butane.gaff2.xml')"
   ]
  },
  {
   "cell_type": "code",
   "execution_count": 55,
   "metadata": {},
   "outputs": [],
   "source": [
    "system = forcefield.createSystem(pdb.topology, nonbondedMethod=app.NoCutoff, constraints=app.HBonds)"
   ]
  },
  {
   "cell_type": "code",
   "execution_count": 56,
   "metadata": {},
   "outputs": [],
   "source": [
    "integrator = mm.LangevinIntegrator(298.15*unit.kelvin, 5.0/unit.picoseconds, 2.0*unit.femtoseconds)\n",
    "integrator.setConstraintTolerance(1e-5)"
   ]
  },
  {
   "cell_type": "code",
   "execution_count": 57,
   "metadata": {},
   "outputs": [],
   "source": [
    "platform = mm.Platform.getPlatformByName('Reference')\n",
    "simulation = app.Simulation(pdb.topology, system, integrator, platform)\n",
    "simulation.context.setPositions(pdb.positions)"
   ]
  },
  {
   "cell_type": "code",
   "execution_count": 58,
   "metadata": {},
   "outputs": [
    {
     "name": "stdout",
     "output_type": "stream",
     "text": [
      "Minimizing...\n",
      "Potential energy before minimization is 5.796706828459597 kJ/mol\n",
      "Potential energy after minimization is 5.298273937266501 kJ/mol\n"
     ]
    }
   ],
   "source": [
    "print('Minimizing...')\n",
    "\n",
    "st = simulation.context.getState(getPositions=True,getEnergy=True)\n",
    "print(F\"Potential energy before minimization is {st.getPotentialEnergy()}\")\n",
    "\n",
    "simulation.minimizeEnergy(maxIterations=100)\n",
    "\n",
    "st = simulation.context.getState(getPositions=True,getEnergy=True)\n",
    "print(F\"Potential energy after minimization is {st.getPotentialEnergy()}\")"
   ]
  },
  {
   "cell_type": "code",
   "execution_count": 59,
   "metadata": {},
   "outputs": [
    {
     "name": "stdout",
     "output_type": "stream",
     "text": [
      "Equilibrating...\n",
      "#\"Step\",\"Potential Energy (kJ/mole)\",\"Temperature (K)\"\n",
      "250,41.00268852420855,223.9705261055929\n",
      "500,49.86181814967479,176.98421965276856\n",
      "750,47.799895744026976,297.9895954221997\n",
      "1000,62.989190315267805,437.6171680077088\n",
      "1250,33.69197163154262,368.9327703639907\n",
      "1500,48.29120953533399,370.44633079444674\n",
      "1750,37.45942261750241,467.11867975494323\n",
      "2000,46.48866795465634,472.61691496065345\n",
      "2250,36.459075379918765,385.34803715026317\n",
      "2500,34.97297831561663,415.03955986225895\n",
      "2750,56.315331879051215,238.49043205065647\n",
      "3000,40.37301726667795,301.14802841334324\n",
      "3250,55.63330900380418,306.325349955388\n",
      "3500,35.9844551006883,337.46790230758666\n",
      "3750,38.24771238494857,432.9038626267616\n",
      "4000,25.06233614789751,413.1145724100541\n",
      "4250,47.333205836319244,288.1575424286192\n",
      "4500,33.65336936991592,311.77446067882704\n",
      "4750,36.70047163314957,202.78531235715639\n",
      "5000,32.6944469072439,231.91238380492283\n"
     ]
    }
   ],
   "source": [
    "from sys import stdout\n",
    "\n",
    "print('Equilibrating...')\n",
    "\n",
    "#The websote notes that each step is 2 femtoseconds long.\n",
    "#1000 femtoseconds = 1 picosecond, so I changed the step cound=ts accordingly.\n",
    "simulation.reporters.append(app.StateDataReporter(stdout, 250, step=True, \n",
    "    potentialEnergy=True, temperature=True, separator=','))\n",
    "simulation.context.setVelocitiesToTemperature(150.0*unit.kelvin)\n",
    "#The previous equilibration took 5000 femtoseconds = 5 picoseconds.\n",
    "#Therefore, multiply by 2.\n",
    "simulation.step(2500*2)"
   ]
  },
  {
   "cell_type": "code",
   "execution_count": 60,
   "metadata": {},
   "outputs": [
    {
     "name": "stdout",
     "output_type": "stream",
     "text": [
      "Running Production...\n",
      "#\"Step\",\"Time (ps)\",\"Potential Energy (kJ/mole)\",\"Temperature (K)\",\"Speed (ns/day)\"\n",
      "500000,999.9999999901769,57.43060046922694,289.48884549335355,--\n",
      "1000000,1999.9999999665301,33.17658886308623,410.476920548736,1.73e+04\n",
      "1500000,2999.9999999428833,42.255930751886055,287.16830486232857,1.73e+04\n",
      "2000000,3999.9999999192364,26.269007553255815,245.78368601401098,1.73e+04\n",
      "2500000,5000.000000101135,58.178429161658016,251.55225096994516,1.74e+04\n",
      "3000000,6000.000000304862,44.154773940822764,313.30346533582747,1.74e+04\n",
      "3500000,7000.0000005085885,36.8890908398878,285.0891146170185,1.74e+04\n",
      "4000000,8000.000000712315,34.2594158086999,306.70782447109946,1.74e+04\n",
      "4500000,9000.000000916041,40.70250693677195,375.41010302878556,1.74e+04\n",
      "5000000,10000.000001119768,23.8683682060688,202.67048427818116,1.74e+04\n",
      "5500000,11000.000001323495,28.947069772037086,234.91523374350714,1.74e+04\n",
      "6000000,12000.000001527222,45.577638434344166,394.92116731807187,1.74e+04\n",
      "6500000,13000.000001730948,34.897258923464115,267.8080247095861,1.74e+04\n",
      "7000000,14000.000001934675,35.74757194983837,271.6612137565682,1.74e+04\n",
      "7500000,15000.000002138402,34.07929199774998,297.2044523891964,1.74e+04\n",
      "8000000,16000.000002342129,29.99515519346388,276.1264700883102,1.74e+04\n",
      "8500000,17000.000002545854,46.787833036726994,309.75425694856347,1.74e+04\n",
      "9000000,18000.00000274958,35.474261592226696,396.2246764191096,1.74e+04\n",
      "9500000,19000.000002953308,54.24809960655581,314.818535172603,1.74e+04\n",
      "10000000,20000.000003157034,33.956779324292896,265.5305314629903,1.74e+04\n",
      "10500000,21000.00000336076,37.986288833047766,387.5005560780265,1.74e+04\n",
      "11000000,22000.000003564488,33.472888457935454,277.8670677806911,1.74e+04\n",
      "11500000,23000.000003768215,33.1616368693391,358.33021325951336,1.74e+04\n",
      "12000000,24000.00000397194,47.813270178953836,353.7986990510076,1.74e+04\n",
      "12500000,25000.00000417567,46.22465782609076,314.47950362842386,1.74e+04\n",
      "13000000,26000.000004379395,35.66479662354146,292.5179382241233,1.74e+04\n",
      "13500000,27000.000004583122,26.97607091719339,245.27765413075318,1.74e+04\n",
      "14000000,28000.00000478685,24.561769303984057,311.52981993282884,1.74e+04\n",
      "14500000,29000.000004990576,40.99940120710722,366.90332409573443,1.74e+04\n",
      "15000000,30000.000005194303,41.93787699969621,156.51277201089988,1.74e+04\n",
      "15500000,31000.00000539803,35.7318145432866,259.7820978479352,1.74e+04\n",
      "16000000,32000.000005601756,50.50137383533378,288.3968500322665,1.74e+04\n",
      "16500000,33000.00000580548,46.068908261099764,177.4025086993345,1.74e+04\n",
      "17000000,34000.000006009206,21.848796156079175,237.1071547037351,1.74e+04\n",
      "17500000,35000.00000621293,39.55636296831617,222.00316632944586,1.74e+04\n",
      "18000000,36000.00000641666,54.330680964168344,294.8619233523648,1.74e+04\n",
      "18500000,37000.00000662039,45.73143586574241,345.3605807523907,1.74e+04\n",
      "19000000,38000.00000682411,28.43165247480661,326.5888147360474,1.74e+04\n",
      "19500000,39000.00000702784,40.08588074930593,299.49944401172615,1.73e+04\n",
      "20000000,40000.00000723157,41.08254145744843,275.1347232842038,1.73e+04\n",
      "Done!\n",
      "Time required for simulation: 199.57455253601074 seconds\n"
     ]
    }
   ],
   "source": [
    "print('Running Production...')\n",
    "\n",
    "# Begin timer\n",
    "tinit=time.time()\n",
    "\n",
    "# Clear simulation reporters\n",
    "simulation.reporters.clear()\n",
    "\n",
    "# Reinitialize simulation reporters. We do this because we want different information printed from the production run than the equilibration run.\n",
    "# output basic simulation information below every 2*250000 steps - (which is equal to 2*2 fs(250,000) = 2*500,000 fs = 2*500 ps)\n",
    "# = 1 ns\n",
    "simulation.reporters.append(app.StateDataReporter(stdout, 2*250000, \n",
    "    step=True, time=True, potentialEnergy=True, temperature=True, \n",
    "    speed=True, separator=','))\n",
    "\n",
    "# write out a trajectory (i.e., coordinates vs. time) to a DCD\n",
    "# file every 100 steps - 0.2 ps. This time, write to butane's file.\n",
    "simulation.reporters.append(app.DCDReporter('butane_sim.dcd', 100))\n",
    "\n",
    "# run the simulation for 2*1.0x10^7 steps - 2*20 ns = 40 ns\n",
    "simulation.step(2*10000000)\n",
    "\n",
    "# End timer\n",
    "tfinal=time.time()\n",
    "print('Done!')\n",
    "print('Time required for simulation:', tfinal-tinit, 'seconds')"
   ]
  },
  {
   "cell_type": "code",
   "execution_count": null,
   "metadata": {},
   "outputs": [],
   "source": []
  }
 ],
 "metadata": {
  "kernelspec": {
   "display_name": "Python 3",
   "language": "python",
   "name": "python3"
  },
  "language_info": {
   "codemirror_mode": {
    "name": "ipython",
    "version": 3
   },
   "file_extension": ".py",
   "mimetype": "text/x-python",
   "name": "python",
   "nbconvert_exporter": "python",
   "pygments_lexer": "ipython3",
   "version": "3.7.0"
  }
 },
 "nbformat": 4,
 "nbformat_minor": 2
}
