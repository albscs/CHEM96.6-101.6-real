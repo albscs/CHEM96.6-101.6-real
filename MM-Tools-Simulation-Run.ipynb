{
 "cells": [
  {
   "cell_type": "markdown",
   "metadata": {},
   "source": [
    "I also included the examples they did for the ethane; my work on the problems they did is further down and interspersed within their demonstrations."
   ]
  },
  {
   "cell_type": "code",
   "execution_count": 1,
   "metadata": {},
   "outputs": [],
   "source": [
    "from simtk.openmm import app\n",
    "import simtk.openmm as mm\n",
    "from simtk import unit\n",
    "import mdtraj as md"
   ]
  },
  {
   "cell_type": "code",
   "execution_count": 2,
   "metadata": {},
   "outputs": [],
   "source": [
    "pdb = app.PDBFile('ethane.pdb')\n",
    "forcefield = app.ForceField('ethane.gaff2.xml')"
   ]
  },
  {
   "cell_type": "code",
   "execution_count": 3,
   "metadata": {},
   "outputs": [],
   "source": [
    "system = forcefield.createSystem(pdb.topology, nonbondedMethod=app.NoCutoff, constraints=app.HBonds)"
   ]
  },
  {
   "cell_type": "code",
   "execution_count": 4,
   "metadata": {},
   "outputs": [],
   "source": [
    "integrator = mm.LangevinIntegrator(298.15*unit.kelvin, 5.0/unit.picoseconds, 2.0*unit.femtoseconds)\n",
    "integrator.setConstraintTolerance(1e-5)"
   ]
  },
  {
   "cell_type": "code",
   "execution_count": 5,
   "metadata": {},
   "outputs": [],
   "source": [
    "platform = mm.Platform.getPlatformByName('Reference')\n",
    "simulation = app.Simulation(pdb.topology, system, integrator, platform)\n",
    "simulation.context.setPositions(pdb.positions)"
   ]
  },
  {
   "cell_type": "code",
   "execution_count": 6,
   "metadata": {},
   "outputs": [
    {
     "name": "stdout",
     "output_type": "stream",
     "text": [
      "Minimizing...\n",
      "Potential energy before minimization is 4.467818224810637 kJ/mol\n",
      "Potential energy after minimization is 4.38996767892269 kJ/mol\n"
     ]
    }
   ],
   "source": [
    "print('Minimizing...')\n",
    "\n",
    "st = simulation.context.getState(getPositions=True,getEnergy=True)\n",
    "print(F\"Potential energy before minimization is {st.getPotentialEnergy()}\")\n",
    "\n",
    "simulation.minimizeEnergy(maxIterations=100)\n",
    "\n",
    "st = simulation.context.getState(getPositions=True,getEnergy=True)\n",
    "print(F\"Potential energy after minimization is {st.getPotentialEnergy()}\")"
   ]
  },
  {
   "cell_type": "code",
   "execution_count": 7,
   "metadata": {},
   "outputs": [
    {
     "name": "stdout",
     "output_type": "stream",
     "text": [
      "Equilibrating...\n",
      "#\"Step\",\"Potential Energy (kJ/mole)\",\"Temperature (K)\"\n",
      "100,17.913864908788284,106.17630379954576\n",
      "200,19.1554861611792,284.98037108143404\n",
      "300,19.61154765496044,225.85160155113923\n",
      "400,18.748689144747733,224.2253663767764\n",
      "500,13.017935171321135,74.81885878779889\n",
      "600,12.57744074683118,121.40637957515244\n",
      "700,21.25218918847148,249.59979621398833\n",
      "800,18.831378246841844,329.0259674014482\n",
      "900,18.53494801668763,260.1712585835088\n",
      "1000,15.796303273885385,366.5263730173823\n",
      "1100,16.37982102356693,163.1444169707092\n",
      "1200,16.6755879166703,233.5267585462047\n",
      "1300,14.797657471655523,353.53729036620007\n",
      "1400,15.591840739723999,110.4138798533689\n",
      "1500,24.930452372229198,438.2581066898977\n",
      "1600,17.197997661686983,346.5145043177336\n",
      "1700,16.78317559780864,191.1303911308884\n",
      "1800,35.573353863946934,382.8274153504799\n",
      "1900,20.579815103509603,232.44628193179076\n",
      "2000,19.521822734244598,312.07855522694547\n",
      "2100,19.403351432345698,287.4076789370571\n",
      "2200,22.108634043717984,175.8801738806051\n",
      "2300,23.39237937103855,234.88141232992396\n",
      "2400,16.84610310743625,339.38901622238365\n",
      "2500,20.292787752917683,323.3640023981739\n"
     ]
    }
   ],
   "source": [
    "from sys import stdout\n",
    "\n",
    "print('Equilibrating...')\n",
    "\n",
    "simulation.reporters.append(app.StateDataReporter(stdout, 100, step=True, \n",
    "    potentialEnergy=True, temperature=True, separator=','))\n",
    "simulation.context.setVelocitiesToTemperature(150.0*unit.kelvin)\n",
    "simulation.step(2500)"
   ]
  },
  {
   "cell_type": "code",
   "execution_count": 8,
   "metadata": {},
   "outputs": [
    {
     "name": "stdout",
     "output_type": "stream",
     "text": [
      "Running Production...\n",
      "#\"Step\",\"Time (ps)\",\"Potential Energy (kJ/mole)\",\"Temperature (K)\",\"Speed (ns/day)\"\n",
      "250000,500.0000000016593,14.772521231637889,374.3162418243245,--\n",
      "500000,999.9999999901769,17.0896740594249,183.63133183611163,1.16e+04\n",
      "750000,1499.9999999783536,22.514820412933112,796.651908201216,1.42e+04\n",
      "1000000,1999.9999999665301,17.31229556385059,108.39543392829682,1.33e+04\n",
      "1250000,2499.9999999547067,13.387457197412827,87.88384925638731,1.28e+04\n",
      "1500000,2999.9999999428833,20.277450390233245,239.48607735672095,1.26e+04\n",
      "1750000,3499.99999993106,24.25539321468751,375.24038557381675,1.27e+04\n",
      "2000000,3999.9999999192364,18.56016208170417,192.88561517047972,1.3e+04\n",
      "2250000,4499.9999999992715,16.81220837589528,295.90740579691845,1.29e+04\n",
      "2500000,5000.000000101135,21.421315516773983,312.14186240120233,1.29e+04\n",
      "2750000,5500.000000202998,27.189886723026312,262.6742734912079,1.29e+04\n",
      "3000000,6000.000000304862,21.29595368088312,361.61827458824877,1.3e+04\n",
      "3250000,6500.000000406725,27.488999731597225,271.9065585462879,1.33e+04\n",
      "3500000,7000.0000005085885,16.93963040862809,295.9980338246712,1.32e+04\n",
      "3750000,7500.000000610452,16.317989902060624,270.3280406058478,1.31e+04\n",
      "4000000,8000.000000712315,28.02543495405867,307.36361006310705,1.31e+04\n",
      "4250000,8500.000000814178,13.457221603905346,329.68541319845497,1.32e+04\n",
      "4500000,9000.000000916041,23.517531620167254,276.45420107189494,1.33e+04\n",
      "4750000,9500.000001017905,22.240660121574606,241.1771323063355,1.37e+04\n",
      "5000000,10000.000001119768,18.600234603563212,136.2216159773053,1.36e+04\n",
      "5250000,10500.000001221631,13.95967430673084,68.98741056095491,1.36e+04\n",
      "5500000,11000.000001323495,21.349742751456766,564.4660717402794,1.35e+04\n",
      "5750000,11500.000001425358,27.466304545437165,135.5285763694332,1.37e+04\n",
      "6000000,12000.000001527222,42.41487537087639,265.55741820815916,1.36e+04\n",
      "6250000,12500.000001629085,18.120412318683353,372.06776508306996,1.36e+04\n",
      "6500000,13000.000001730948,14.241366605699573,235.26253133087957,1.35e+04\n",
      "6750000,13500.000001832812,17.71344894523831,342.5149282000696,1.35e+04\n",
      "7000000,14000.000001934675,27.122035784080595,408.47107201197986,1.36e+04\n",
      "7250000,14500.000002036539,44.434327762117256,324.3802828742863,1.36e+04\n",
      "7500000,15000.000002138402,22.738352691164266,571.7887266734983,1.36e+04\n",
      "7750000,15500.000002240266,27.095068019344207,210.43035616259056,1.35e+04\n",
      "8000000,16000.000002342129,28.67743695656999,371.46863920321726,1.35e+04\n",
      "8250000,16500.00000244399,19.87849520416212,371.2886192578347,1.36e+04\n",
      "8500000,17000.000002545854,18.480644598225243,190.3233649806902,1.36e+04\n",
      "8750000,17500.000002647717,23.3227112547723,311.66451239147125,1.35e+04\n",
      "9000000,18000.00000274958,21.316804288810474,589.5802276212002,1.35e+04\n",
      "9250000,18500.000002851444,14.308899269433047,318.2863848989961,1.34e+04\n",
      "9500000,19000.000002953308,19.115839404109384,298.3631569561798,1.35e+04\n",
      "9750000,19500.00000305517,18.33153427032469,255.08120558376828,1.35e+04\n",
      "10000000,20000.000003157034,26.38468004951858,307.9473015575991,1.34e+04\n",
      "Done!\n",
      "Time required for simulation: 129.52702593803406 seconds\n"
     ]
    }
   ],
   "source": [
    "import time as time\n",
    "\n",
    "print('Running Production...')\n",
    "\n",
    "# Begin timer\n",
    "tinit=time.time()\n",
    "\n",
    "# Clear simulation reporters\n",
    "simulation.reporters.clear()\n",
    "\n",
    "# Reinitialize simulation reporters. We do this because we want different information printed from the production run than the equilibration run.\n",
    "# output basic simulation information below every 250000 steps - (which is equal to 2 fs(250,000) = 500,000 fs = 500 ps)\n",
    "simulation.reporters.append(app.StateDataReporter(stdout, 250000, \n",
    "    step=True, time=True, potentialEnergy=True, temperature=True, \n",
    "    speed=True, separator=','))\n",
    "\n",
    "# write out a trajectory (i.e., coordinates vs. time) to a DCD\n",
    "# file every 100 steps - 0.2 ps\n",
    "simulation.reporters.append(app.DCDReporter('ethane_sim.dcd', 100))\n",
    "\n",
    "# run the simulation for 1.0x10^7 steps - 20 ns\n",
    "simulation.step(10000000)\n",
    "\n",
    "# End timer\n",
    "tfinal=time.time()\n",
    "print('Done!')\n",
    "print('Time required for simulation:', tfinal-tinit, 'seconds')"
   ]
  },
  {
   "cell_type": "code",
   "execution_count": 9,
   "metadata": {},
   "outputs": [],
   "source": [
    "pdb = app.PDBFile('butane.pdb')\n",
    "forcefield = app.ForceField('butane.gaff2.xml')"
   ]
  },
  {
   "cell_type": "code",
   "execution_count": 10,
   "metadata": {},
   "outputs": [],
   "source": [
    "system = forcefield.createSystem(pdb.topology, nonbondedMethod=app.NoCutoff, constraints=app.HBonds)"
   ]
  },
  {
   "cell_type": "code",
   "execution_count": 11,
   "metadata": {},
   "outputs": [],
   "source": [
    "integrator = mm.LangevinIntegrator(298.15*unit.kelvin, 5.0/unit.picoseconds, 2.0*unit.femtoseconds)\n",
    "integrator.setConstraintTolerance(1e-5)"
   ]
  },
  {
   "cell_type": "code",
   "execution_count": 12,
   "metadata": {},
   "outputs": [],
   "source": [
    "platform = mm.Platform.getPlatformByName('Reference')\n",
    "simulation = app.Simulation(pdb.topology, system, integrator, platform)\n",
    "simulation.context.setPositions(pdb.positions)"
   ]
  },
  {
   "cell_type": "code",
   "execution_count": 13,
   "metadata": {},
   "outputs": [
    {
     "name": "stdout",
     "output_type": "stream",
     "text": [
      "Minimizing...\n",
      "Potential energy before minimization is 5.796706828459597 kJ/mol\n",
      "Potential energy after minimization is 5.298273937266501 kJ/mol\n"
     ]
    }
   ],
   "source": [
    "print('Minimizing...')\n",
    "\n",
    "st = simulation.context.getState(getPositions=True,getEnergy=True)\n",
    "print(F\"Potential energy before minimization is {st.getPotentialEnergy()}\")\n",
    "\n",
    "simulation.minimizeEnergy(maxIterations=100)\n",
    "\n",
    "st = simulation.context.getState(getPositions=True,getEnergy=True)\n",
    "print(F\"Potential energy after minimization is {st.getPotentialEnergy()}\")"
   ]
  },
  {
   "cell_type": "code",
   "execution_count": 14,
   "metadata": {},
   "outputs": [
    {
     "name": "stdout",
     "output_type": "stream",
     "text": [
      "Equilibrating...\n",
      "#\"Step\",\"Potential Energy (kJ/mole)\",\"Temperature (K)\"\n",
      "250,53.87496006579047,445.9456173724135\n",
      "500,45.802928981330616,133.0325985291795\n",
      "750,48.52847294209035,199.12026165942268\n",
      "1000,32.67459701661765,230.53741338940122\n",
      "1250,37.19346258893365,238.1969034311532\n",
      "1500,36.614660068641115,256.89520491002975\n",
      "1750,43.44723282847807,254.1349834915323\n",
      "2000,51.66069421614151,193.94211414991423\n",
      "2250,44.30702126446665,222.1924469313989\n",
      "2500,48.07396752978672,345.5305242923637\n",
      "2750,41.21890602440191,507.00695358155656\n",
      "3000,39.04482741148908,212.91818020541504\n",
      "3250,60.2330602496618,244.764557673709\n",
      "3500,41.686052927025095,276.2624746518922\n",
      "3750,33.367017830266704,405.6841519448886\n",
      "4000,37.51760900329313,216.22707302418783\n",
      "4250,39.9891474508947,258.11696078290623\n",
      "4500,38.684281953808046,335.5831080502668\n",
      "4750,19.98156386054802,530.0239924815223\n",
      "5000,44.521627174320706,441.0897250475711\n"
     ]
    }
   ],
   "source": [
    "from sys import stdout\n",
    "\n",
    "print('Equilibrating...')\n",
    "\n",
    "#The websote notes that each step is 2 femtoseconds long.\n",
    "#1000 femtoseconds = 1 picosecond, so I changed the step cound=ts accordingly.\n",
    "simulation.reporters.append(app.StateDataReporter(stdout, 250, step=True, \n",
    "    potentialEnergy=True, temperature=True, separator=','))\n",
    "simulation.context.setVelocitiesToTemperature(150.0*unit.kelvin)\n",
    "#The previous equilibration took 5000 femtoseconds = 5 picoseconds.\n",
    "#Therefore, multiply by 2.\n",
    "simulation.step(2500*2)"
   ]
  },
  {
   "cell_type": "code",
   "execution_count": 15,
   "metadata": {},
   "outputs": [
    {
     "name": "stdout",
     "output_type": "stream",
     "text": [
      "Running Production...\n",
      "#\"Step\",\"Time (ps)\",\"Potential Energy (kJ/mole)\",\"Temperature (K)\",\"Speed (ns/day)\"\n",
      "500000,999.9999999901769,42.68848416636685,291.00279346640866,0\n",
      "1000000,1999.9999999665301,38.99408879138368,356.9228930334136,6.64e+03\n",
      "1500000,2999.9999999428833,66.9947007436657,159.69449392891812,6.69e+03\n",
      "2000000,3999.9999999192364,37.39042181696735,295.39879341456975,6.66e+03\n",
      "2500000,5000.000000101135,37.77924155231651,291.7986368640869,6.62e+03\n",
      "3000000,6000.000000304862,56.35431977226007,220.5325113959454,6.68e+03\n",
      "3500000,7000.0000005085885,44.90582940153059,401.89361392141365,6.7e+03\n",
      "4000000,8000.000000712315,39.56171621589877,207.79117597988372,6.73e+03\n",
      "4500000,9000.000000916041,33.29750786425839,229.9777671337182,6.72e+03\n",
      "5000000,10000.000001119768,33.82996732081031,327.6514936375112,6.7e+03\n",
      "5500000,11000.000001323495,39.68676799516486,347.1530330283853,6.71e+03\n",
      "6000000,12000.000001527222,45.38831803938307,336.93205625053656,6.72e+03\n",
      "6500000,13000.000001730948,31.598420256668447,359.6086185426359,6.74e+03\n",
      "7000000,14000.000001934675,34.630407185091656,217.34146413295605,6.72e+03\n",
      "7500000,15000.000002138402,59.542414688297605,310.115684708206,6.7e+03\n",
      "8000000,16000.000002342129,61.27721195782135,272.2187602179923,6.72e+03\n",
      "8500000,17000.000002545854,41.36734932183177,265.6177525116085,6.7e+03\n",
      "9000000,18000.00000274958,58.35082144289654,175.03951290271618,6.76e+03\n",
      "9500000,19000.000002953308,43.601604613344044,376.0329155616916,6.74e+03\n",
      "10000000,20000.000003157034,45.0634063862064,285.9263549289611,6.7e+03\n",
      "10500000,21000.00000336076,36.54582356684321,169.69756665768847,6.7e+03\n",
      "11000000,22000.000003564488,54.63136332247028,353.5765759755833,6.7e+03\n",
      "11500000,23000.000003768215,34.90594011626756,434.1690945554677,6.72e+03\n",
      "12000000,24000.00000397194,66.90933896294044,301.88972357408255,6.73e+03\n",
      "12500000,25000.00000417567,33.25581649486195,412.47545027076416,6.71e+03\n",
      "13000000,26000.000004379395,57.92085537436344,263.6779295228419,6.71e+03\n",
      "13500000,27000.000004583122,26.890758900462657,295.8434009936167,6.7e+03\n",
      "14000000,28000.00000478685,39.9142651423753,329.8383505722918,6.68e+03\n",
      "14500000,29000.000004990576,37.05117941467199,300.73562325964235,6.67e+03\n",
      "15000000,30000.000005194303,49.11981424230885,322.81098015056665,6.68e+03\n",
      "15500000,31000.00000539803,51.61846449461605,387.87289081260263,6.66e+03\n",
      "16000000,32000.000005601756,39.110984235006,249.1730645393817,6.66e+03\n",
      "16500000,33000.00000580548,49.08389573190313,250.45757684001862,6.65e+03\n",
      "17000000,34000.000006009206,41.27198584844981,258.43754522815146,6.64e+03\n",
      "17500000,35000.00000621293,53.6236813853108,360.8877542468256,6.63e+03\n",
      "18000000,36000.00000641666,48.049982329356126,217.93231519726245,6.64e+03\n",
      "18500000,37000.00000662039,32.23695406910794,278.12881230962853,6.62e+03\n",
      "19000000,38000.00000682411,37.23939131053314,220.1487324968387,6.62e+03\n",
      "19500000,39000.00000702784,33.13122269327963,416.98387654364984,6.62e+03\n",
      "20000000,40000.00000723157,46.146502270981834,346.38535336646754,6.62e+03\n",
      "Done!\n",
      "Time required for simulation: 521.9626355171204 seconds\n"
     ]
    }
   ],
   "source": [
    "print('Running Production...')\n",
    "\n",
    "# Begin timer\n",
    "tinit=time.time()\n",
    "\n",
    "# Clear simulation reporters\n",
    "simulation.reporters.clear()\n",
    "\n",
    "# Reinitialize simulation reporters. We do this because we want different information printed from the production run than the equilibration run.\n",
    "# output basic simulation information below every 2*250000 steps - (which is equal to 2*2 fs(250,000) = 2*500,000 fs = 2*500 ps)\n",
    "# = 1 ns\n",
    "simulation.reporters.append(app.StateDataReporter(stdout, 2*250000, \n",
    "    step=True, time=True, potentialEnergy=True, temperature=True, \n",
    "    speed=True, separator=','))\n",
    "\n",
    "# write out a trajectory (i.e., coordinates vs. time) to a DCD\n",
    "# file every 100 steps - 0.2 ps. This time, write to butane's file.\n",
    "simulation.reporters.append(app.DCDReporter('butane_sim.dcd', 100))\n",
    "\n",
    "# run the simulation for 2*1.0x10^7 steps - 2*20 ns = 40 ns\n",
    "simulation.step(2*10000000)\n",
    "\n",
    "# End timer\n",
    "tfinal=time.time()\n",
    "print('Done!')\n",
    "print('Time required for simulation:', tfinal-tinit, 'seconds')"
   ]
  },
  {
   "cell_type": "code",
   "execution_count": null,
   "metadata": {},
   "outputs": [],
   "source": []
  },
  {
   "cell_type": "code",
   "execution_count": null,
   "metadata": {},
   "outputs": [],
   "source": []
  }
 ],
 "metadata": {
  "kernelspec": {
   "display_name": "Python 3",
   "language": "python",
   "name": "python3"
  },
  "language_info": {
   "codemirror_mode": {
    "name": "ipython",
    "version": 3
   },
   "file_extension": ".py",
   "mimetype": "text/x-python",
   "name": "python",
   "nbconvert_exporter": "python",
   "pygments_lexer": "ipython3",
   "version": "3.7.0"
  }
 },
 "nbformat": 4,
 "nbformat_minor": 2
}
